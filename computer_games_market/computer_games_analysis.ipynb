{
 "cells": [
  {
   "cell_type": "markdown",
   "id": "a3f9a089",
   "metadata": {},
   "source": [
    "# Анализ продаж компьютерных игр для определения рекламной стратегии\n",
    "\n",
    "Для интернет-магазина «Стримчик», который продаёт по всему миру компьютерные игры, нужно выявить определяющие успешность игры закономерности. Это позволит сделать ставку на потенциально популярный продукт и спланировать рекламные кампании. Из открытых источников доступны исторические данные о продажах игр, оценки пользователей и экспертов, жанры и платформы (например, Xbox или PlayStation).\n",
    "\n",
    "**Цель проекта** - сформировать прогноз продаж, чтобы сделать ставку на потенциально популярные игры у пользователей, и спланировать рекламные компании на 2017 год."
   ]
  },
  {
   "cell_type": "markdown",
   "id": "997d00be",
   "metadata": {},
   "source": [
    "## План работы\n",
    "\n",
    "* Предобработка данных\n",
    "* Дополнительные расчеты и добавление результатов в таблицу\n",
    "* Исследовательский анализ данных\n",
    "* Составление портрета пользователя каждого региона\n",
    "* Проверка гипотез\n",
    "* Общий вывод"
   ]
  },
  {
   "cell_type": "markdown",
   "id": "802fc3ca",
   "metadata": {},
   "source": [
    "## Изучение данных из файлов"
   ]
  },
  {
   "cell_type": "code",
   "execution_count": 1,
   "id": "6ac2234b",
   "metadata": {},
   "outputs": [],
   "source": [
    "import pandas as pd\n",
    "import os\n",
    "import seaborn as sns\n",
    "import matplotlib.pyplot as plt\n",
    "from scipy import stats as st"
   ]
  },
  {
   "cell_type": "code",
   "execution_count": 2,
   "id": "103e2b6b",
   "metadata": {},
   "outputs": [
    {
     "data": {
      "text/html": [
       "<div>\n",
       "<style scoped>\n",
       "    .dataframe tbody tr th:only-of-type {\n",
       "        vertical-align: middle;\n",
       "    }\n",
       "\n",
       "    .dataframe tbody tr th {\n",
       "        vertical-align: top;\n",
       "    }\n",
       "\n",
       "    .dataframe thead th {\n",
       "        text-align: right;\n",
       "    }\n",
       "</style>\n",
       "<table border=\"1\" class=\"dataframe\">\n",
       "  <thead>\n",
       "    <tr style=\"text-align: right;\">\n",
       "      <th></th>\n",
       "      <th>Name</th>\n",
       "      <th>Platform</th>\n",
       "      <th>Year_of_Release</th>\n",
       "      <th>Genre</th>\n",
       "      <th>NA_sales</th>\n",
       "      <th>EU_sales</th>\n",
       "      <th>JP_sales</th>\n",
       "      <th>Other_sales</th>\n",
       "      <th>Critic_Score</th>\n",
       "      <th>User_Score</th>\n",
       "      <th>Rating</th>\n",
       "    </tr>\n",
       "  </thead>\n",
       "  <tbody>\n",
       "    <tr>\n",
       "      <th>0</th>\n",
       "      <td>Wii Sports</td>\n",
       "      <td>Wii</td>\n",
       "      <td>2006.0</td>\n",
       "      <td>Sports</td>\n",
       "      <td>41.36</td>\n",
       "      <td>28.96</td>\n",
       "      <td>3.77</td>\n",
       "      <td>8.45</td>\n",
       "      <td>76.0</td>\n",
       "      <td>8</td>\n",
       "      <td>E</td>\n",
       "    </tr>\n",
       "    <tr>\n",
       "      <th>1</th>\n",
       "      <td>Super Mario Bros.</td>\n",
       "      <td>NES</td>\n",
       "      <td>1985.0</td>\n",
       "      <td>Platform</td>\n",
       "      <td>29.08</td>\n",
       "      <td>3.58</td>\n",
       "      <td>6.81</td>\n",
       "      <td>0.77</td>\n",
       "      <td>NaN</td>\n",
       "      <td>NaN</td>\n",
       "      <td>NaN</td>\n",
       "    </tr>\n",
       "    <tr>\n",
       "      <th>2</th>\n",
       "      <td>Mario Kart Wii</td>\n",
       "      <td>Wii</td>\n",
       "      <td>2008.0</td>\n",
       "      <td>Racing</td>\n",
       "      <td>15.68</td>\n",
       "      <td>12.76</td>\n",
       "      <td>3.79</td>\n",
       "      <td>3.29</td>\n",
       "      <td>82.0</td>\n",
       "      <td>8.3</td>\n",
       "      <td>E</td>\n",
       "    </tr>\n",
       "    <tr>\n",
       "      <th>3</th>\n",
       "      <td>Wii Sports Resort</td>\n",
       "      <td>Wii</td>\n",
       "      <td>2009.0</td>\n",
       "      <td>Sports</td>\n",
       "      <td>15.61</td>\n",
       "      <td>10.93</td>\n",
       "      <td>3.28</td>\n",
       "      <td>2.95</td>\n",
       "      <td>80.0</td>\n",
       "      <td>8</td>\n",
       "      <td>E</td>\n",
       "    </tr>\n",
       "    <tr>\n",
       "      <th>4</th>\n",
       "      <td>Pokemon Red/Pokemon Blue</td>\n",
       "      <td>GB</td>\n",
       "      <td>1996.0</td>\n",
       "      <td>Role-Playing</td>\n",
       "      <td>11.27</td>\n",
       "      <td>8.89</td>\n",
       "      <td>10.22</td>\n",
       "      <td>1.00</td>\n",
       "      <td>NaN</td>\n",
       "      <td>NaN</td>\n",
       "      <td>NaN</td>\n",
       "    </tr>\n",
       "    <tr>\n",
       "      <th>5</th>\n",
       "      <td>Tetris</td>\n",
       "      <td>GB</td>\n",
       "      <td>1989.0</td>\n",
       "      <td>Puzzle</td>\n",
       "      <td>23.20</td>\n",
       "      <td>2.26</td>\n",
       "      <td>4.22</td>\n",
       "      <td>0.58</td>\n",
       "      <td>NaN</td>\n",
       "      <td>NaN</td>\n",
       "      <td>NaN</td>\n",
       "    </tr>\n",
       "    <tr>\n",
       "      <th>6</th>\n",
       "      <td>New Super Mario Bros.</td>\n",
       "      <td>DS</td>\n",
       "      <td>2006.0</td>\n",
       "      <td>Platform</td>\n",
       "      <td>11.28</td>\n",
       "      <td>9.14</td>\n",
       "      <td>6.50</td>\n",
       "      <td>2.88</td>\n",
       "      <td>89.0</td>\n",
       "      <td>8.5</td>\n",
       "      <td>E</td>\n",
       "    </tr>\n",
       "    <tr>\n",
       "      <th>7</th>\n",
       "      <td>Wii Play</td>\n",
       "      <td>Wii</td>\n",
       "      <td>2006.0</td>\n",
       "      <td>Misc</td>\n",
       "      <td>13.96</td>\n",
       "      <td>9.18</td>\n",
       "      <td>2.93</td>\n",
       "      <td>2.84</td>\n",
       "      <td>58.0</td>\n",
       "      <td>6.6</td>\n",
       "      <td>E</td>\n",
       "    </tr>\n",
       "    <tr>\n",
       "      <th>8</th>\n",
       "      <td>New Super Mario Bros. Wii</td>\n",
       "      <td>Wii</td>\n",
       "      <td>2009.0</td>\n",
       "      <td>Platform</td>\n",
       "      <td>14.44</td>\n",
       "      <td>6.94</td>\n",
       "      <td>4.70</td>\n",
       "      <td>2.24</td>\n",
       "      <td>87.0</td>\n",
       "      <td>8.4</td>\n",
       "      <td>E</td>\n",
       "    </tr>\n",
       "    <tr>\n",
       "      <th>9</th>\n",
       "      <td>Duck Hunt</td>\n",
       "      <td>NES</td>\n",
       "      <td>1984.0</td>\n",
       "      <td>Shooter</td>\n",
       "      <td>26.93</td>\n",
       "      <td>0.63</td>\n",
       "      <td>0.28</td>\n",
       "      <td>0.47</td>\n",
       "      <td>NaN</td>\n",
       "      <td>NaN</td>\n",
       "      <td>NaN</td>\n",
       "    </tr>\n",
       "  </tbody>\n",
       "</table>\n",
       "</div>"
      ],
      "text/plain": [
       "                        Name Platform  Year_of_Release         Genre  \\\n",
       "0                 Wii Sports      Wii           2006.0        Sports   \n",
       "1          Super Mario Bros.      NES           1985.0      Platform   \n",
       "2             Mario Kart Wii      Wii           2008.0        Racing   \n",
       "3          Wii Sports Resort      Wii           2009.0        Sports   \n",
       "4   Pokemon Red/Pokemon Blue       GB           1996.0  Role-Playing   \n",
       "5                     Tetris       GB           1989.0        Puzzle   \n",
       "6      New Super Mario Bros.       DS           2006.0      Platform   \n",
       "7                   Wii Play      Wii           2006.0          Misc   \n",
       "8  New Super Mario Bros. Wii      Wii           2009.0      Platform   \n",
       "9                  Duck Hunt      NES           1984.0       Shooter   \n",
       "\n",
       "   NA_sales  EU_sales  JP_sales  Other_sales  Critic_Score User_Score Rating  \n",
       "0     41.36     28.96      3.77         8.45          76.0          8      E  \n",
       "1     29.08      3.58      6.81         0.77           NaN        NaN    NaN  \n",
       "2     15.68     12.76      3.79         3.29          82.0        8.3      E  \n",
       "3     15.61     10.93      3.28         2.95          80.0          8      E  \n",
       "4     11.27      8.89     10.22         1.00           NaN        NaN    NaN  \n",
       "5     23.20      2.26      4.22         0.58           NaN        NaN    NaN  \n",
       "6     11.28      9.14      6.50         2.88          89.0        8.5      E  \n",
       "7     13.96      9.18      2.93         2.84          58.0        6.6      E  \n",
       "8     14.44      6.94      4.70         2.24          87.0        8.4      E  \n",
       "9     26.93      0.63      0.28         0.47           NaN        NaN    NaN  "
      ]
     },
     "execution_count": 2,
     "metadata": {},
     "output_type": "execute_result"
    }
   ],
   "source": [
    "# чтение файла с данными\n",
    "\n",
    "data = pd.read_csv('games.csv')\n",
    "\n",
    "data.head(10)"
   ]
  },
  {
   "cell_type": "code",
   "execution_count": 3,
   "id": "20b3e6f0",
   "metadata": {},
   "outputs": [
    {
     "name": "stdout",
     "output_type": "stream",
     "text": [
      "<class 'pandas.core.frame.DataFrame'>\n",
      "RangeIndex: 16715 entries, 0 to 16714\n",
      "Data columns (total 11 columns):\n",
      " #   Column           Non-Null Count  Dtype  \n",
      "---  ------           --------------  -----  \n",
      " 0   Name             16713 non-null  object \n",
      " 1   Platform         16715 non-null  object \n",
      " 2   Year_of_Release  16446 non-null  float64\n",
      " 3   Genre            16713 non-null  object \n",
      " 4   NA_sales         16715 non-null  float64\n",
      " 5   EU_sales         16715 non-null  float64\n",
      " 6   JP_sales         16715 non-null  float64\n",
      " 7   Other_sales      16715 non-null  float64\n",
      " 8   Critic_Score     8137 non-null   float64\n",
      " 9   User_Score       10014 non-null  object \n",
      " 10  Rating           9949 non-null   object \n",
      "dtypes: float64(6), object(5)\n",
      "memory usage: 1.4+ MB\n"
     ]
    }
   ],
   "source": [
    "data.info() # получение общей информации о данных в таблице data"
   ]
  },
  {
   "cell_type": "markdown",
   "id": "266acbb6",
   "metadata": {},
   "source": [
    "### Вывод\n",
    "\n",
    "В каждой строке таблицы — данные об игре.\n",
    "\n",
    "Предварительно можно утверждать, что данных достаточно. Но встречаются пропуски в данных. Чтобы двигаться дальше, нужно устранить проблемы в данных."
   ]
  },
  {
   "cell_type": "markdown",
   "id": "3e12a9c4",
   "metadata": {},
   "source": [
    "## Предобработка данных"
   ]
  },
  {
   "cell_type": "markdown",
   "id": "eb70c29b",
   "metadata": {},
   "source": [
    "### Изменение наименований столбцов"
   ]
  },
  {
   "cell_type": "code",
   "execution_count": 4,
   "id": "c1ab59c5",
   "metadata": {},
   "outputs": [],
   "source": [
    "# приведение наименований столбцов к нижнему регистру\n",
    "\n",
    "data.columns = data.columns.str.lower()"
   ]
  },
  {
   "cell_type": "markdown",
   "id": "869266ae",
   "metadata": {},
   "source": [
    "### Заполнение пропусков"
   ]
  },
  {
   "cell_type": "code",
   "execution_count": 5,
   "id": "6f7a11fe",
   "metadata": {},
   "outputs": [
    {
     "data": {
      "text/plain": [
       "name                  2\n",
       "platform              0\n",
       "year_of_release     269\n",
       "genre                 2\n",
       "na_sales              0\n",
       "eu_sales              0\n",
       "jp_sales              0\n",
       "other_sales           0\n",
       "critic_score       8578\n",
       "user_score         6701\n",
       "rating             6766\n",
       "dtype: int64"
      ]
     },
     "execution_count": 5,
     "metadata": {},
     "output_type": "execute_result"
    }
   ],
   "source": [
    "data.isna().sum() # определение количества пропущенных значений"
   ]
  },
  {
   "cell_type": "markdown",
   "id": "261a30f1",
   "metadata": {},
   "source": [
    "Обнаружены пропущенные значения в столбцах: 'name', 'year_of_release', 'genre', 'critic_score' и 'user_score', 'rating'.   \n",
    "Очень много пропущенных значений в оценках критиков (51%), пользователей (55%) и рейтинге (40%).\n",
    "\n",
    "В столбцах: 'name' и 'genre' всего по 2 пропущенных значения, которые относятся к одним и тем же строкам. Но т.к. в этих строках есть продажи, указана платформа и год выпуска, то не будем их удалять.  \n",
    "\n",
    "Скорее всего пропущенные значения появились из-за того, что данные подтягивались из разных источников, и часть данных просто могла некорректно выгрузиться.\n",
    "\n",
    "Все пропущенные значения во всех столбцах заменим на нереальное значение 99999."
   ]
  },
  {
   "cell_type": "code",
   "execution_count": 6,
   "id": "77d464df",
   "metadata": {},
   "outputs": [],
   "source": [
    "data = data.fillna(99999)"
   ]
  },
  {
   "cell_type": "markdown",
   "id": "b4f40596",
   "metadata": {},
   "source": [
    "В столбце 'user_score' присутствует значение 'tbd', что означает 'to be determined', т.е. оценка пользователя еще не определена (либо не игра не оценивалась, либо только вышла). Для удобства изменения типа данных этого столбца заменим 'tbd' на нереальное значение 9999999999."
   ]
  },
  {
   "cell_type": "code",
   "execution_count": 7,
   "id": "ddc8c97c",
   "metadata": {},
   "outputs": [],
   "source": [
    "data.loc[data['user_score'] == 'tbd', 'user_score'] = 99999"
   ]
  },
  {
   "cell_type": "code",
   "execution_count": 8,
   "id": "a61dcf4a",
   "metadata": {},
   "outputs": [
    {
     "data": {
      "text/plain": [
       "rating\n",
       "99999    40.478612\n",
       "AO        0.005983\n",
       "E        23.870775\n",
       "E10+      8.495363\n",
       "EC        0.047861\n",
       "K-A       0.017948\n",
       "M         9.350882\n",
       "RP        0.017948\n",
       "T        17.714628\n",
       "Name: rating, dtype: float64"
      ]
     },
     "execution_count": 8,
     "metadata": {},
     "output_type": "execute_result"
    }
   ],
   "source": [
    "data.groupby('rating')['rating'].count() / data['rating'].count() * 100 # проверяем значения колонки 'rating'"
   ]
  },
  {
   "cell_type": "markdown",
   "id": "126b26b6",
   "metadata": {},
   "source": [
    "В столбце 'rating' встречаются редкие значения. Заменим их на более распространенные (RP - рейтинг ожидается - заменяем на 99999). Значения EC (для всех с 3 лет) и AO (18+) оставляем без замены, т.к. это текущий общепринятый рейтинг ESRB и, скорее всего, игры с таким рейтингом просто редко покупают."
   ]
  },
  {
   "cell_type": "code",
   "execution_count": 9,
   "id": "e33a3013",
   "metadata": {},
   "outputs": [],
   "source": [
    "data.loc[data['rating'] == 'K-A', 'rating'] = 'E'\n",
    "data.loc[data['rating'] == 'RP', 'rating'] = 99999"
   ]
  },
  {
   "cell_type": "markdown",
   "id": "e12ee1a4",
   "metadata": {},
   "source": [
    "### Изменение типов данных"
   ]
  },
  {
   "cell_type": "markdown",
   "id": "509b3696",
   "metadata": {},
   "source": [
    "В некоторых столбцах необходимо заменить типы данных для удобства расчетов. В столбцах 'year_of_release', 'critic_score' вещественный тип на целочисленный, а в столбце 'user_score' строковый тип на вещественный."
   ]
  },
  {
   "cell_type": "code",
   "execution_count": 10,
   "id": "fbdf025d",
   "metadata": {},
   "outputs": [],
   "source": [
    "# заменяем вещественный тип на целочисленный\n",
    "\n",
    "data[['year_of_release', 'critic_score']] = data[['year_of_release', 'critic_score']].astype(int)"
   ]
  },
  {
   "cell_type": "code",
   "execution_count": 11,
   "id": "1608a599",
   "metadata": {},
   "outputs": [],
   "source": [
    "# заменяем строковый тип на вещественный\n",
    "\n",
    "data['user_score'] = data['user_score'].astype(float)"
   ]
  },
  {
   "cell_type": "markdown",
   "id": "e1fe1d48",
   "metadata": {},
   "source": [
    "### Расчет суммарных продаж"
   ]
  },
  {
   "cell_type": "code",
   "execution_count": 12,
   "id": "487d7510",
   "metadata": {},
   "outputs": [],
   "source": [
    "# считаем суммарные продажи во всех регионах\n",
    "\n",
    "data['sales_total'] = data[['na_sales','eu_sales','jp_sales', 'other_sales']].sum(axis = 1)"
   ]
  },
  {
   "cell_type": "markdown",
   "id": "c448d5b5",
   "metadata": {},
   "source": [
    "## Исследовательский анализ данных"
   ]
  },
  {
   "cell_type": "code",
   "execution_count": 13,
   "id": "8b6d48c0",
   "metadata": {},
   "outputs": [
    {
     "data": {
      "image/png": "[encoded data removed]",
      "text/plain": [
       "<Figure size 720x432 with 1 Axes>"
      ]
     },
     "metadata": {
      "needs_background": "light"
     },
     "output_type": "display_data"
    }
   ],
   "source": [
    "# считаем, сколько игр выпускалось в разные годы\n",
    "\n",
    "(\n",
    "    data.pivot_table(index = 'year_of_release', values = 'name', aggfunc = 'count')\n",
    "    .query('year_of_release != 99999').plot(y='name', kind='bar', figsize=(10,6), grid=True, title='Выпуски игр по годам')\n",
    ")\n",
    "plt.xlabel('Год выпуска')\n",
    "plt.ylabel('Количество игр')\n",
    "plt.show()"
   ]
  },
  {
   "cell_type": "markdown",
   "id": "3f4f1053",
   "metadata": {},
   "source": [
    "Наибольшее количество игр выпускалось в 2007-2011 годах. После 2011 года пошел резкий спад. Резкий рост был в 2002 году, а до этого в 1994 году (количество выпускаемых игр увеличилось в 2 раза по сравнению с 1993 годом)."
   ]
  },
  {
   "cell_type": "code",
   "execution_count": 14,
   "id": "2122bd5b",
   "metadata": {},
   "outputs": [
    {
     "data": {
      "image/png": "[encoded data removed]",
      "text/plain": [
       "<Figure size 720x432 with 1 Axes>"
      ]
     },
     "metadata": {
      "needs_background": "light"
     },
     "output_type": "display_data"
    }
   ],
   "source": [
    "# считаем, как менялись продажи по платформам\n",
    "\n",
    "(\n",
    "    data.pivot_table(index = 'platform', values = 'sales_total', aggfunc = 'sum')\n",
    "    .sort_values(by='sales_total', ascending=False)\n",
    "    .plot(y='sales_total', kind='bar', figsize=(10,6), grid=True, title='Продажи по платформам')\n",
    ")\n",
    "plt.xlabel('Платформы')\n",
    "plt.ylabel('Общие продажи')\n",
    "plt.show()"
   ]
  },
  {
   "cell_type": "markdown",
   "id": "0315a7d1",
   "metadata": {},
   "source": [
    "Наибольшие продажи у платформ 'PS2', 'X360', 'PS3', 'Wii', 'DS', 'PS'. Построим распределения по годам у этих платформ."
   ]
  },
  {
   "cell_type": "code",
   "execution_count": 15,
   "id": "d7c27f5a",
   "metadata": {},
   "outputs": [
    {
     "data": {
      "image/png": "[encoded data removed]",
      "text/plain": [
       "<Figure size 432x288 with 1 Axes>"
      ]
     },
     "metadata": {
      "needs_background": "light"
     },
     "output_type": "display_data"
    }
   ],
   "source": [
    "data.query('(platform == \"PS\") & (year_of_release != 99999)').hist('year_of_release', bins=20)\n",
    "plt.title('Платформа PS')\n",
    "plt.xlabel('Год выпуска')\n",
    "plt.ylabel('Количество выпускаемых игр')\n",
    "plt.show()"
   ]
  },
  {
   "cell_type": "markdown",
   "id": "0b1f686b",
   "metadata": {},
   "source": [
    "Релиз платформы PS произошел в конце 1994 года, и в следующем 1995 году резко выросло количество выпускаемых игр (что лигично, т.к. данные берутся за целый 1995 год, а в 1994 году только за месяц). Пик приходится на 1998 год, а с выпуском PS2 в конце 2000 года (в Японии раньше) пошло резкое снижение. PS была снята с производства в 2006 году."
   ]
  },
  {
   "cell_type": "code",
   "execution_count": 16,
   "id": "d77b34f9",
   "metadata": {},
   "outputs": [
    {
     "data": {
      "image/png": "[encoded data removed]",
      "text/plain": [
       "<Figure size 432x288 with 1 Axes>"
      ]
     },
     "metadata": {
      "needs_background": "light"
     },
     "output_type": "display_data"
    }
   ],
   "source": [
    "data.query('(platform == \"PS2\") & (year_of_release != 99999)').hist('year_of_release', bins=20)\n",
    "plt.title('Платформа PS2')\n",
    "plt.xlabel('Год выпуска')\n",
    "plt.ylabel('Количество выпускаемых игр')\n",
    "plt.show()"
   ]
  },
  {
   "cell_type": "markdown",
   "id": "7fead539",
   "metadata": {},
   "source": [
    "У платформы PS2 количество выпущенных игр было стабильно выше 250 с 2002 и вплоть до 2006 года, затем пошло падение, и после 2011 года выпусков уже не было совсем. В 2006 году вышла новая платформа PS3. Логично, что по прошествии 5 лет перестали выпускать игры под старую платформу, т.к. их уже купили все, кому нужно было. На стыке 2012-2013 годов PS2 была снята с производства."
   ]
  },
  {
   "cell_type": "code",
   "execution_count": 17,
   "id": "37e3bb2a",
   "metadata": {},
   "outputs": [
    {
     "data": {
      "image/png": "[encoded data removed]",
      "text/plain": [
       "<Figure size 432x288 with 1 Axes>"
      ]
     },
     "metadata": {
      "needs_background": "light"
     },
     "output_type": "display_data"
    }
   ],
   "source": [
    "data.query('(platform == \"PS3\") & (year_of_release != 99999)').hist('year_of_release', bins=20)\n",
    "plt.title('Платформа PS3')\n",
    "plt.xlabel('Год выпуска')\n",
    "plt.ylabel('Количество выпускаемых игр')\n",
    "plt.show()"
   ]
  },
  {
   "cell_type": "markdown",
   "id": "bdc90ea7",
   "metadata": {},
   "source": [
    "Релиз платформы PS3 состоялся в 2006 году, как раз именно в этом году началось снижение количества выпущенных игр для платформы PS2. С каждым годом количество игр росло, и пик приходится на 2011 год, когда перестали выпускать игры для PS2. Затем произошло  резкое снижение, которое продолжилось и дальше. В начале 2017 года PS3 была снята с производства.\n",
    "В 2013 году была выпущена новая версия PS4, но резкого снижения количества выпущенных игр не наблюдается. Снижение после пика скорее плавное."
   ]
  },
  {
   "cell_type": "code",
   "execution_count": 18,
   "id": "a5fcc384",
   "metadata": {},
   "outputs": [
    {
     "data": {
      "image/png": "[encoded data removed]",
      "text/plain": [
       "<Figure size 432x288 with 1 Axes>"
      ]
     },
     "metadata": {
      "needs_background": "light"
     },
     "output_type": "display_data"
    }
   ],
   "source": [
    "data.query('(platform == \"X360\") & (year_of_release != 99999)').hist('year_of_release', bins=20)\n",
    "plt.title('Платформа X360')\n",
    "plt.xlabel('Год выпуска')\n",
    "plt.ylabel('Количество выпускаемых игр')\n",
    "plt.show()"
   ]
  },
  {
   "cell_type": "markdown",
   "id": "367264f6",
   "metadata": {},
   "source": [
    "Релиз платформы состоялся в конце 2005 года, поэтому виден такой рост количества выпускаемых игр в 2006 году по сравнению с 2005. Пик, так же как и у PS3, приходится на 2011 год. Затем произошло резкое падение. В 2016 году платформа была снята с производства."
   ]
  },
  {
   "cell_type": "code",
   "execution_count": 19,
   "id": "68cfc866",
   "metadata": {},
   "outputs": [
    {
     "data": {
      "image/png": "[encoded data removed]",
      "text/plain": [
       "<Figure size 432x288 with 1 Axes>"
      ]
     },
     "metadata": {
      "needs_background": "light"
     },
     "output_type": "display_data"
    }
   ],
   "source": [
    "data.query('(platform == \"Wii\") & (year_of_release != 99999)').hist('year_of_release', bins=20)\n",
    "plt.title('Платформа Wii')\n",
    "plt.xlabel('Год выпуска')\n",
    "plt.ylabel('Количество выпускаемых игр')\n",
    "plt.show()"
   ]
  },
  {
   "cell_type": "markdown",
   "id": "429e2cbe",
   "metadata": {},
   "source": [
    "Релиз платформы состоялся в конце 2006 года, поэтому виден такой рост количества выпускаемых игр в 2007 году по сравнению с 2006. Пик приходится на 2009 год. Затем произошло некоторое падение в 2010 году и резкое в 2011. В 2013 году прекращена поддержка, но, тем не менее, некоторые игры продолжали выпускаться для этой платформы."
   ]
  },
  {
   "cell_type": "code",
   "execution_count": 20,
   "id": "96f6e8cd",
   "metadata": {},
   "outputs": [
    {
     "data": {
      "image/png": "[encoded data removed]",
      "text/plain": [
       "<Figure size 432x288 with 1 Axes>"
      ]
     },
     "metadata": {
      "needs_background": "light"
     },
     "output_type": "display_data"
    }
   ],
   "source": [
    "data.query('(platform == \"DS\") & (year_of_release != 99999)').hist('year_of_release', bins=20, range=(2002,2015))\n",
    "plt.title('Платформа DS')\n",
    "plt.xlabel('Год выпуска')\n",
    "plt.ylabel('Количество выпускаемых игр')\n",
    "plt.show()"
   ]
  },
  {
   "cell_type": "markdown",
   "id": "75a9e487",
   "metadata": {},
   "source": [
    "Релиз платформы состоялся в конце 2004 - начале 2005 годах. Резко возросло количество выпускаемых игр в 2007 году по сравнению с 2006. Пик приходится на 2009 год. Затем пошло снижение. У платформы выпускались обновления под тем же названием, поэтому резкие скачки скорее связаны именно с этими обновлениями. В 2011 году вышла новая платформа 3DS, поэтому выпуск новых игр для платформы DS резко сократился."
   ]
  },
  {
   "cell_type": "markdown",
   "id": "aab03f20",
   "metadata": {},
   "source": [
    "#### Общий вывод по графикам\n",
    "У платформ, которые выпустились в 2004-2006 годах видно, что после 2011 года пошел резкий спад количества выпускаемых игр. Скорее всего это связано с экономическим кризисом, который начался в 2008 году. К 2011 году завершили разработки уже начатых игр, а новые разработки не торопились начинать.\n",
    "Средний срок продаж платформы (с момента выпуска до снятия с производства) - 9-11 лет. Но у Nintendo срок жизни платформы меньше - 7-9 лет. При этом рост происходит в первые 5 лет продаж."
   ]
  },
  {
   "cell_type": "markdown",
   "id": "83ae2ce7",
   "metadata": {},
   "source": [
    "На основании 2х анализов возьмем срез данных, начиная с 2012 года, т.к. пошел спад выпускаемых игр, и анализ будет более актуальным, если брать платформы, основные продажи которых приходится на актуальный период."
   ]
  },
  {
   "cell_type": "code",
   "execution_count": 21,
   "id": "495d6c1e",
   "metadata": {},
   "outputs": [],
   "source": [
    "data_new = pd.DataFrame(data.query('(year_of_release != 99999) & (year_of_release >= 2012)'))"
   ]
  },
  {
   "cell_type": "code",
   "execution_count": 22,
   "id": "8b321509",
   "metadata": {},
   "outputs": [
    {
     "data": {
      "text/html": [
       "<div>\n",
       "<style scoped>\n",
       "    .dataframe tbody tr th:only-of-type {\n",
       "        vertical-align: middle;\n",
       "    }\n",
       "\n",
       "    .dataframe tbody tr th {\n",
       "        vertical-align: top;\n",
       "    }\n",
       "\n",
       "    .dataframe thead th {\n",
       "        text-align: right;\n",
       "    }\n",
       "</style>\n",
       "<table border=\"1\" class=\"dataframe\">\n",
       "  <thead>\n",
       "    <tr style=\"text-align: right;\">\n",
       "      <th>platform</th>\n",
       "      <th>3DS</th>\n",
       "      <th>DS</th>\n",
       "      <th>PC</th>\n",
       "      <th>PS3</th>\n",
       "      <th>PS4</th>\n",
       "      <th>PSP</th>\n",
       "      <th>PSV</th>\n",
       "      <th>Wii</th>\n",
       "      <th>WiiU</th>\n",
       "      <th>X360</th>\n",
       "      <th>XOne</th>\n",
       "    </tr>\n",
       "    <tr>\n",
       "      <th>year_of_release</th>\n",
       "      <th></th>\n",
       "      <th></th>\n",
       "      <th></th>\n",
       "      <th></th>\n",
       "      <th></th>\n",
       "      <th></th>\n",
       "      <th></th>\n",
       "      <th></th>\n",
       "      <th></th>\n",
       "      <th></th>\n",
       "      <th></th>\n",
       "    </tr>\n",
       "  </thead>\n",
       "  <tbody>\n",
       "    <tr>\n",
       "      <th>2012</th>\n",
       "      <td>51.36</td>\n",
       "      <td>11.01</td>\n",
       "      <td>23.22</td>\n",
       "      <td>107.36</td>\n",
       "      <td>0.00</td>\n",
       "      <td>7.69</td>\n",
       "      <td>16.19</td>\n",
       "      <td>21.71</td>\n",
       "      <td>17.56</td>\n",
       "      <td>99.74</td>\n",
       "      <td>0.00</td>\n",
       "    </tr>\n",
       "    <tr>\n",
       "      <th>2013</th>\n",
       "      <td>56.57</td>\n",
       "      <td>1.54</td>\n",
       "      <td>12.38</td>\n",
       "      <td>113.25</td>\n",
       "      <td>25.99</td>\n",
       "      <td>3.14</td>\n",
       "      <td>10.59</td>\n",
       "      <td>8.59</td>\n",
       "      <td>21.65</td>\n",
       "      <td>88.58</td>\n",
       "      <td>18.96</td>\n",
       "    </tr>\n",
       "    <tr>\n",
       "      <th>2014</th>\n",
       "      <td>43.76</td>\n",
       "      <td>0.00</td>\n",
       "      <td>13.28</td>\n",
       "      <td>47.76</td>\n",
       "      <td>100.00</td>\n",
       "      <td>0.24</td>\n",
       "      <td>11.90</td>\n",
       "      <td>3.75</td>\n",
       "      <td>22.03</td>\n",
       "      <td>34.74</td>\n",
       "      <td>54.07</td>\n",
       "    </tr>\n",
       "    <tr>\n",
       "      <th>2015</th>\n",
       "      <td>27.78</td>\n",
       "      <td>0.00</td>\n",
       "      <td>8.52</td>\n",
       "      <td>16.82</td>\n",
       "      <td>118.90</td>\n",
       "      <td>0.12</td>\n",
       "      <td>6.25</td>\n",
       "      <td>1.14</td>\n",
       "      <td>16.35</td>\n",
       "      <td>11.96</td>\n",
       "      <td>60.14</td>\n",
       "    </tr>\n",
       "    <tr>\n",
       "      <th>2016</th>\n",
       "      <td>15.14</td>\n",
       "      <td>0.00</td>\n",
       "      <td>5.25</td>\n",
       "      <td>3.60</td>\n",
       "      <td>69.25</td>\n",
       "      <td>0.00</td>\n",
       "      <td>4.25</td>\n",
       "      <td>0.18</td>\n",
       "      <td>4.60</td>\n",
       "      <td>1.52</td>\n",
       "      <td>26.15</td>\n",
       "    </tr>\n",
       "    <tr>\n",
       "      <th>Total</th>\n",
       "      <td>194.61</td>\n",
       "      <td>12.55</td>\n",
       "      <td>62.65</td>\n",
       "      <td>288.79</td>\n",
       "      <td>314.14</td>\n",
       "      <td>11.19</td>\n",
       "      <td>49.18</td>\n",
       "      <td>35.37</td>\n",
       "      <td>82.19</td>\n",
       "      <td>236.54</td>\n",
       "      <td>159.32</td>\n",
       "    </tr>\n",
       "  </tbody>\n",
       "</table>\n",
       "</div>"
      ],
      "text/plain": [
       "platform            3DS     DS     PC     PS3     PS4    PSP    PSV    Wii  \\\n",
       "year_of_release                                                              \n",
       "2012              51.36  11.01  23.22  107.36    0.00   7.69  16.19  21.71   \n",
       "2013              56.57   1.54  12.38  113.25   25.99   3.14  10.59   8.59   \n",
       "2014              43.76   0.00  13.28   47.76  100.00   0.24  11.90   3.75   \n",
       "2015              27.78   0.00   8.52   16.82  118.90   0.12   6.25   1.14   \n",
       "2016              15.14   0.00   5.25    3.60   69.25   0.00   4.25   0.18   \n",
       "Total            194.61  12.55  62.65  288.79  314.14  11.19  49.18  35.37   \n",
       "\n",
       "platform          WiiU    X360    XOne  \n",
       "year_of_release                         \n",
       "2012             17.56   99.74    0.00  \n",
       "2013             21.65   88.58   18.96  \n",
       "2014             22.03   34.74   54.07  \n",
       "2015             16.35   11.96   60.14  \n",
       "2016              4.60    1.52   26.15  \n",
       "Total            82.19  236.54  159.32  "
      ]
     },
     "execution_count": 22,
     "metadata": {},
     "output_type": "execute_result"
    }
   ],
   "source": [
    "# определяем, какие платформы лидируют по продажам, растут или падают\n",
    "\n",
    "data_platform = pd.DataFrame(data_new.pivot_table(index = 'year_of_release', columns = 'platform', values = 'sales_total', aggfunc = 'sum')).fillna(0)\n",
    "data_platform.loc['Total'] = data_platform.sum()\n",
    "data_platform"
   ]
  },
  {
   "cell_type": "code",
   "execution_count": 23,
   "id": "2f80e2e8",
   "metadata": {},
   "outputs": [
    {
     "data": {
      "image/png": "[encoded data removed]",
      "text/plain": [
       "<Figure size 1440x576 with 1 Axes>"
      ]
     },
     "metadata": {
      "needs_background": "light"
     },
     "output_type": "display_data"
    }
   ],
   "source": [
    "sns.barplot(x='platform',  y='sales_total', data=data_new, hue = 'year_of_release').figure.set_size_inches(20,8)\n",
    "plt.title('Продажи платформ по годам')\n",
    "plt.xlabel('Платформы')\n",
    "plt.ylabel('Общие продажи')\n",
    "plt.show()"
   ]
  },
  {
   "cell_type": "code",
   "execution_count": 24,
   "id": "a72a68d6",
   "metadata": {},
   "outputs": [
    {
     "data": {
      "image/png": "[encoded data removed]",
      "text/plain": [
       "<Figure size 576x288 with 1 Axes>"
      ]
     },
     "metadata": {
      "needs_background": "light"
     },
     "output_type": "display_data"
    }
   ],
   "source": [
    "# суммарные продажи по платформам\n",
    "\n",
    "(\n",
    "    data_platform.query('year_of_release == \"Total\"').T\n",
    "    .sort_values(by='Total', ascending=False)\n",
    "    .plot(kind='bar', figsize=(8,4))\n",
    ")\n",
    "plt.title('Общие продажи по платформам')\n",
    "plt.xlabel('Платформы')\n",
    "plt.ylabel('Общие продажи')\n",
    "plt.show()"
   ]
  },
  {
   "cell_type": "markdown",
   "id": "49e808b1",
   "metadata": {},
   "source": [
    "Из последнего графика (по суммарным продажам игр для каждой платформы) видно, что наиболее прибыльными платформами являются 3DS, PS3, PS4, X360, XOne.  \n",
    "Продажи всех платформ падают, пик у всех, кроме WiiU, приходится на 2013 год (из выбранного периода), затем спад. У PS3, 3DS и X360, по факту, пик пришелся на более ранний период, который не вошел в выбранный, и резкий спад пошел после 2011 года (это видно на гистограммах выше) - эти платформы были выпущены раньше, чем PS4 и XOne, хотя уровень продаж все еще высокий."
   ]
  },
  {
   "cell_type": "code",
   "execution_count": 25,
   "id": "2289977f",
   "metadata": {},
   "outputs": [
    {
     "data": {
      "image/png": "[encoded data removed]",
      "text/plain": [
       "<Figure size 1440x720 with 1 Axes>"
      ]
     },
     "metadata": {
      "needs_background": "light"
     },
     "output_type": "display_data"
    }
   ],
   "source": [
    "# строим график «ящик с усами» по глобальным продажам игр в разбивке по топовым платформам\n",
    "\n",
    "(\n",
    "    data_new.query('platform in [\"3DS\", \"PS3\", \"PS4\", \"X360\", \"XOne\"]')\n",
    "    .boxplot('sales_total', by='platform', figsize=(20, 10)).set_ylim(0,6)\n",
    ")\n",
    "plt.title('Размах общих продаж по топовым платформам')\n",
    "plt.xlabel('Платформы')\n",
    "plt.ylabel('Общие продажи')\n",
    "plt.show()"
   ]
  },
  {
   "cell_type": "markdown",
   "id": "cb5323ab",
   "metadata": {},
   "source": [
    "Из графика видно, что у платформ PS3, PS4, XOne почти одинаковая медиана: 0.2-0.22 млн проданных копий. У X360 медиана 0.31 млн, а у 3DS 0.11 млн. По максимальному значению усов топовые платформы (кроме 3DS) находятся между 1-2 млн копий."
   ]
  },
  {
   "cell_type": "code",
   "execution_count": 26,
   "id": "48106bf7",
   "metadata": {},
   "outputs": [
    {
     "name": "stdout",
     "output_type": "stream",
     "text": [
      "Корреляция продаж и оценки критиков: 0.406567902061781\n",
      "Корреляция продаж и оценки пользователей: -0.031957110204556376\n"
     ]
    }
   ],
   "source": [
    "# определяем влияние отзывов пользователей и критиков на продажи внутри одной популярной платформы - PS4\n",
    "\n",
    "# определяем корреляцию\n",
    "(\n",
    "    print('Корреляция продаж и оценки критиков:', \n",
    "          data_new.query('(platform == \"PS4\") & (critic_score != 99999)')['sales_total']\n",
    "          .corr(data_new.query('(platform == \"PS4\") & (critic_score != 99999)')['critic_score']))\n",
    ")\n",
    "(\n",
    "    print('Корреляция продаж и оценки пользователей:', \n",
    "          data_new.query('(platform == \"PS4\") & (user_score != 99999)')['sales_total']\n",
    "          .corr(data_new.query('(platform == \"PS4\") & (user_score != 99999)')['user_score']))\n",
    ")"
   ]
  },
  {
   "cell_type": "code",
   "execution_count": 27,
   "id": "225a717f",
   "metadata": {},
   "outputs": [
    {
     "data": {
      "image/png": "[encoded data removed]",
      "text/plain": [
       "<Figure size 432x288 with 1 Axes>"
      ]
     },
     "metadata": {
      "needs_background": "light"
     },
     "output_type": "display_data"
    }
   ],
   "source": [
    "# строим диаграмму рассеяния для зависимости продаж от оценки критиков\n",
    "\n",
    "(\n",
    "    data_new.query('(platform == \"PS4\") & (critic_score != 99999)')\n",
    "    .plot(x='critic_score', y='sales_total', kind='scatter', alpha=0.3)\n",
    ")\n",
    "plt.title('Зависимость продаж от оценки критиков')\n",
    "plt.xlabel('Оценки критиков')\n",
    "plt.ylabel('Общие продажи')\n",
    "plt.show()"
   ]
  },
  {
   "cell_type": "code",
   "execution_count": 28,
   "id": "2fc85afd",
   "metadata": {},
   "outputs": [
    {
     "data": {
      "image/png": "[encoded data removed]",
      "text/plain": [
       "<Figure size 432x288 with 1 Axes>"
      ]
     },
     "metadata": {
      "needs_background": "light"
     },
     "output_type": "display_data"
    }
   ],
   "source": [
    "# строим диаграмму рассеяния для зависимости продаж от оценки пользователей\n",
    "\n",
    "(\n",
    "    data_new.query('(platform == \"PS4\") & (user_score != 99999)')\n",
    "    .plot(x='user_score', y='sales_total', kind='scatter', alpha=0.3)\n",
    ")\n",
    "plt.title('Зависимость продаж от оценки пользователей')\n",
    "plt.xlabel('Оценки пользователей')\n",
    "plt.ylabel('Общие продажи')\n",
    "plt.show()"
   ]
  },
  {
   "cell_type": "markdown",
   "id": "4e2919b0",
   "metadata": {},
   "source": [
    "Из коэффициентов корреляции и графиков видно, что продажи PS4 слабо зависят от оценок критиков и не зависят от оценок пользователей. Но, по факту, обычно продажа игр еще зависит от цены самой игры и от того, насколько сильно ждут ее выхода пользователи. Например, если игра недорогая и короткая по времени прохождения (просто провести несколько вечеров за игрой), то пользователь может и смотреть на оценки. А если игра известная, дорогая, с долгим временем прохождения, то больше смотрят на оценки (как критиков, так  других пользователей)."
   ]
  },
  {
   "cell_type": "code",
   "execution_count": 29,
   "id": "74859703",
   "metadata": {
    "scrolled": false
   },
   "outputs": [
    {
     "name": "stdout",
     "output_type": "stream",
     "text": [
      "Корреляция продаж и оценки критиков 3DS : 0.32080286953607845\n"
     ]
    },
    {
     "data": {
      "image/png": "[encoded data removed]",
      "text/plain": [
       "<Figure size 432x288 with 1 Axes>"
      ]
     },
     "metadata": {
      "needs_background": "light"
     },
     "output_type": "display_data"
    },
    {
     "name": "stdout",
     "output_type": "stream",
     "text": [
      "Корреляция продаж и оценки пользователей 3DS : 0.19758263411038596\n"
     ]
    },
    {
     "data": {
      "image/png": "[encoded data removed]",
      "text/plain": [
       "<Figure size 432x288 with 1 Axes>"
      ]
     },
     "metadata": {
      "needs_background": "light"
     },
     "output_type": "display_data"
    },
    {
     "name": "stdout",
     "output_type": "stream",
     "text": [
      "Корреляция продаж и оценки критиков PS3 : 0.3314972592629587\n"
     ]
    },
    {
     "data": {
      "image/png": "[encoded data removed]",
      "text/plain": [
       "<Figure size 432x288 with 1 Axes>"
      ]
     },
     "metadata": {
      "needs_background": "light"
     },
     "output_type": "display_data"
    },
    {
     "name": "stdout",
     "output_type": "stream",
     "text": [
      "Корреляция продаж и оценки пользователей PS3 : -0.005143522887113828\n"
     ]
    },
    {
     "data": {
      "image/png": "[encoded data removed]",
      "text/plain": [
       "<Figure size 432x288 with 1 Axes>"
      ]
     },
     "metadata": {
      "needs_background": "light"
     },
     "output_type": "display_data"
    },
    {
     "name": "stdout",
     "output_type": "stream",
     "text": [
      "Корреляция продаж и оценки критиков X360 : 0.36057348885073365\n"
     ]
    },
    {
     "data": {
      "image/png": "[encoded data removed]",
      "text/plain": [
       "<Figure size 432x288 with 1 Axes>"
      ]
     },
     "metadata": {
      "needs_background": "light"
     },
     "output_type": "display_data"
    },
    {
     "name": "stdout",
     "output_type": "stream",
     "text": [
      "Корреляция продаж и оценки пользователей X360 : 0.0061639786462133256\n"
     ]
    },
    {
     "data": {
      "image/png": "[encoded data removed]",
      "text/plain": [
       "<Figure size 432x288 with 1 Axes>"
      ]
     },
     "metadata": {
      "needs_background": "light"
     },
     "output_type": "display_data"
    },
    {
     "name": "stdout",
     "output_type": "stream",
     "text": [
      "Корреляция продаж и оценки критиков XOne : 0.41699832800840175\n"
     ]
    },
    {
     "data": {
      "image/png": "[encoded data removed]",
      "text/plain": [
       "<Figure size 432x288 with 1 Axes>"
      ]
     },
     "metadata": {
      "needs_background": "light"
     },
     "output_type": "display_data"
    },
    {
     "name": "stdout",
     "output_type": "stream",
     "text": [
      "Корреляция продаж и оценки пользователей XOne : -0.06892505328279412\n"
     ]
    },
    {
     "data": {
      "image/png": "[encoded data removed]",
      "text/plain": [
       "<Figure size 432x288 with 1 Axes>"
      ]
     },
     "metadata": {
      "needs_background": "light"
     },
     "output_type": "display_data"
    }
   ],
   "source": [
    "# определяем корреляцию и строим диаграммы для других топовых платформ\n",
    "\n",
    "other_top_four = ['3DS', 'PS3', 'X360', 'XOne']\n",
    "\n",
    "for platform in other_top_four:\n",
    "    (\n",
    "        print('Корреляция продаж и оценки критиков', platform, ':', \n",
    "        data_new.query('(platform == @platform) & (critic_score != 99999)')['sales_total']\n",
    "        .corr(data_new.query('(critic_score != 99999)')['critic_score']))\n",
    "    )\n",
    "    (\n",
    "        data_new.query('(platform == @platform) & (critic_score != 99999)')\n",
    "        .plot(x='critic_score', y='sales_total', kind='scatter', alpha=0.3, label=platform)\n",
    "    )\n",
    "    plt.title(f'Зависимость продаж от оценки критиков платформы {platform}')\n",
    "    plt.xlabel('Оценки критиков')\n",
    "    plt.ylabel('Общие продажи')\n",
    "    plt.show()\n",
    "    (\n",
    "        print('Корреляция продаж и оценки пользователей', platform, ':', \n",
    "        data_new.query('(platform == @platform) & (user_score != 99999)')['sales_total']\n",
    "        .corr(data_new.query('(user_score != 99999)')['user_score']))\n",
    "    )\n",
    "    (\n",
    "        data_new.query('(platform == @platform) & (user_score != 99999)')\n",
    "        .plot(x='user_score', y='sales_total', kind='scatter', alpha=0.3, label=platform)\n",
    "    )\n",
    "    plt.title(f'Зависимость продаж от оценки пользователей платформы {platform}')\n",
    "    plt.xlabel('Оценки критиков')\n",
    "    plt.ylabel('Общие продажи')\n",
    "    plt.show()"
   ]
  },
  {
   "cell_type": "markdown",
   "id": "46a3ebb7",
   "metadata": {},
   "source": [
    "По остальным топовым платформам ситуация похожа на ситуацию с платформой PS4: продажи слабо зависят от оценок критиков и не зависят от оценок пользователей. При этом значение корреляции от оценки критиков у всех платформ примерно одинаковое и находится на слабом уровне в диапазоне 0.32-0.42. А корреляция оценок пользователей только у 3DS выбивается из значений '+/-0', и находится на уровне 0.20."
   ]
  },
  {
   "cell_type": "code",
   "execution_count": 30,
   "id": "357518c5",
   "metadata": {},
   "outputs": [
    {
     "data": {
      "text/html": [
       "<div>\n",
       "<style scoped>\n",
       "    .dataframe tbody tr th:only-of-type {\n",
       "        vertical-align: middle;\n",
       "    }\n",
       "\n",
       "    .dataframe tbody tr th {\n",
       "        vertical-align: top;\n",
       "    }\n",
       "\n",
       "    .dataframe thead th {\n",
       "        text-align: right;\n",
       "    }\n",
       "</style>\n",
       "<table border=\"1\" class=\"dataframe\">\n",
       "  <thead>\n",
       "    <tr style=\"text-align: right;\">\n",
       "      <th></th>\n",
       "      <th>critic_score</th>\n",
       "      <th>user_score</th>\n",
       "    </tr>\n",
       "    <tr>\n",
       "      <th>platform</th>\n",
       "      <th></th>\n",
       "      <th></th>\n",
       "    </tr>\n",
       "  </thead>\n",
       "  <tbody>\n",
       "    <tr>\n",
       "      <th>3DS</th>\n",
       "      <td>70</td>\n",
       "      <td>7</td>\n",
       "    </tr>\n",
       "    <tr>\n",
       "      <th>DS</th>\n",
       "      <td>80</td>\n",
       "      <td>8</td>\n",
       "    </tr>\n",
       "    <tr>\n",
       "      <th>PC</th>\n",
       "      <td>76</td>\n",
       "      <td>6</td>\n",
       "    </tr>\n",
       "    <tr>\n",
       "      <th>PS3</th>\n",
       "      <td>72</td>\n",
       "      <td>7</td>\n",
       "    </tr>\n",
       "    <tr>\n",
       "      <th>PS4</th>\n",
       "      <td>72</td>\n",
       "      <td>7</td>\n",
       "    </tr>\n",
       "    <tr>\n",
       "      <th>PSP</th>\n",
       "      <td>74</td>\n",
       "      <td>8</td>\n",
       "    </tr>\n",
       "    <tr>\n",
       "      <th>PSV</th>\n",
       "      <td>71</td>\n",
       "      <td>8</td>\n",
       "    </tr>\n",
       "    <tr>\n",
       "      <th>Wii</th>\n",
       "      <td>76</td>\n",
       "      <td>7</td>\n",
       "    </tr>\n",
       "    <tr>\n",
       "      <th>WiiU</th>\n",
       "      <td>71</td>\n",
       "      <td>7</td>\n",
       "    </tr>\n",
       "    <tr>\n",
       "      <th>X360</th>\n",
       "      <td>71</td>\n",
       "      <td>6</td>\n",
       "    </tr>\n",
       "    <tr>\n",
       "      <th>XOne</th>\n",
       "      <td>74</td>\n",
       "      <td>7</td>\n",
       "    </tr>\n",
       "  </tbody>\n",
       "</table>\n",
       "</div>"
      ],
      "text/plain": [
       "          critic_score  user_score\n",
       "platform                          \n",
       "3DS                 70           7\n",
       "DS                  80           8\n",
       "PC                  76           6\n",
       "PS3                 72           7\n",
       "PS4                 72           7\n",
       "PSP                 74           8\n",
       "PSV                 71           8\n",
       "Wii                 76           7\n",
       "WiiU                71           7\n",
       "X360                71           6\n",
       "XOne                74           7"
      ]
     },
     "execution_count": 30,
     "metadata": {},
     "output_type": "execute_result"
    }
   ],
   "source": [
    "#  считаем средние оценки критиков и пользователей по платформам\n",
    "\n",
    "(\n",
    "    round(data_new.query('(critic_score != 99999) & (user_score != 99999)')\n",
    "    .pivot_table(index='platform', values=['critic_score', 'user_score'], aggfunc='mean'),0)\n",
    "    .astype(int)\n",
    ")"
   ]
  },
  {
   "cell_type": "markdown",
   "id": "f367551d",
   "metadata": {},
   "source": [
    "Таким образом, средние пользовательские рейтинги всех платформ находятся в пределах 6-8 баллов, а оценки критиков - в пределах 70-80 баллов."
   ]
  },
  {
   "cell_type": "code",
   "execution_count": 31,
   "id": "76c19983",
   "metadata": {},
   "outputs": [
    {
     "data": {
      "image/png": "[encoded data removed]",
      "text/plain": [
       "<Figure size 576x288 with 1 Axes>"
      ]
     },
     "metadata": {
      "needs_background": "light"
     },
     "output_type": "display_data"
    }
   ],
   "source": [
    "# определяем наиболее прибыльные жанры игр\n",
    "\n",
    "# считаем распределение игр по жанрам по общим продажам\n",
    "\n",
    "(\n",
    "    data_new.pivot_table(index='genre', values='sales_total', aggfunc='sum')\n",
    "    .sort_values(by='sales_total', ascending=False)\n",
    "    .plot(kind='bar', figsize=(8,4))\n",
    ")\n",
    "plt.title('Распределение игр по жанрам')\n",
    "plt.xlabel('Жанры игр')\n",
    "plt.ylabel('Общие продажи')\n",
    "plt.show()"
   ]
  },
  {
   "cell_type": "code",
   "execution_count": 32,
   "id": "09e7058d",
   "metadata": {},
   "outputs": [
    {
     "data": {
      "image/png": "[encoded data removed]",
      "text/plain": [
       "<Figure size 576x288 with 1 Axes>"
      ]
     },
     "metadata": {
      "needs_background": "light"
     },
     "output_type": "display_data"
    }
   ],
   "source": [
    "# считаем распределение игр по жанрам по средним продажам\n",
    "\n",
    "(\n",
    "    round(data_new.pivot_table(index='genre', values='sales_total'),2)\n",
    "    .sort_values(by='sales_total', ascending=False)\n",
    "    .plot(kind='bar', figsize=(8,4))\n",
    ")\n",
    "plt.title('Распределение игр по жанрам')\n",
    "plt.xlabel('Жанры игр')\n",
    "plt.ylabel('Средние продажи')\n",
    "plt.show()"
   ]
  },
  {
   "cell_type": "code",
   "execution_count": 33,
   "id": "5c4538da",
   "metadata": {},
   "outputs": [
    {
     "data": {
      "image/png": "[encoded data removed]",
      "text/plain": [
       "<Figure size 576x288 with 1 Axes>"
      ]
     },
     "metadata": {
      "needs_background": "light"
     },
     "output_type": "display_data"
    }
   ],
   "source": [
    "# считаем распределение игр по жанрам по медианным продажам\n",
    "\n",
    "(\n",
    "    round(data_new.pivot_table(index='genre', values='sales_total', aggfunc='median'),2)\n",
    "    .sort_values(by='sales_total', ascending=False)\n",
    "    .plot(kind='bar', figsize=(8,4))\n",
    ")\n",
    "plt.title('Распределение игр по жанрам')\n",
    "plt.xlabel('Жанры игр')\n",
    "plt.ylabel('Медианные продажи')\n",
    "plt.show()"
   ]
  },
  {
   "cell_type": "markdown",
   "id": "c7665386",
   "metadata": {},
   "source": [
    "Если смотреть на общие продажи, то наиболее продаваемые жанры - это 'Action', 'Shooter', 'Role-Playing' и 'Sports'. Эти 4 жанра вместе составили 77% от всех продаж. Особенно заметно выделяются продажи жанров 'Action' и 'Shooter' (52% от всех продаж). А среди низких продаж выделяется жанр 'Puzzle'. Жанр 'Action' самый продающийся, потому что название жанра слишком широкое, и почти любую современную игру можно отнести сюда, поэтому сюда попадают многие игры. А жанр 'Puzzle' в большей степени актуален для мобильных телефонов, и разработчики больше зарабатывают на рекламе в этих играх, а не прямыми продажами игры.  \n",
    "\n",
    "Но если взглянуть на средние и медианные продажи, то картина несколько меняется. Наиболее популярные жанры - это 'Shooter', 'Platform', 'Sports', 'Role-Playing', 'Racing'. При чем 'Shooter' лидирует с большим отрывом. Внизу списка находятся жанры 'Puzzle' и 'Adventure'.\n",
    "Разница в распределении игр по жанрам в общих продажах и в средних может быть из-за того, что в общие продажи  могут попасть множество мелких игр с низкими продажами."
   ]
  },
  {
   "cell_type": "markdown",
   "id": "74c43d0e",
   "metadata": {},
   "source": [
    "## Составление портрета пользователя каждого региона"
   ]
  },
  {
   "cell_type": "code",
   "execution_count": 34,
   "id": "07361fd6",
   "metadata": {},
   "outputs": [
    {
     "data": {
      "text/html": [
       "<div>\n",
       "<style scoped>\n",
       "    .dataframe tbody tr th:only-of-type {\n",
       "        vertical-align: middle;\n",
       "    }\n",
       "\n",
       "    .dataframe tbody tr th {\n",
       "        vertical-align: top;\n",
       "    }\n",
       "\n",
       "    .dataframe thead th {\n",
       "        text-align: right;\n",
       "    }\n",
       "</style>\n",
       "<table border=\"1\" class=\"dataframe\">\n",
       "  <thead>\n",
       "    <tr style=\"text-align: right;\">\n",
       "      <th></th>\n",
       "      <th>eu_sales</th>\n",
       "      <th>jp_sales</th>\n",
       "      <th>na_sales</th>\n",
       "    </tr>\n",
       "    <tr>\n",
       "      <th>platform</th>\n",
       "      <th></th>\n",
       "      <th></th>\n",
       "      <th></th>\n",
       "    </tr>\n",
       "  </thead>\n",
       "  <tbody>\n",
       "    <tr>\n",
       "      <th>3DS</th>\n",
       "      <td>42.64</td>\n",
       "      <td>87.79</td>\n",
       "      <td>55.31</td>\n",
       "    </tr>\n",
       "    <tr>\n",
       "      <th>DS</th>\n",
       "      <td>3.53</td>\n",
       "      <td>3.72</td>\n",
       "      <td>4.59</td>\n",
       "    </tr>\n",
       "    <tr>\n",
       "      <th>PC</th>\n",
       "      <td>37.76</td>\n",
       "      <td>0.00</td>\n",
       "      <td>19.12</td>\n",
       "    </tr>\n",
       "    <tr>\n",
       "      <th>PS3</th>\n",
       "      <td>106.86</td>\n",
       "      <td>35.29</td>\n",
       "      <td>103.38</td>\n",
       "    </tr>\n",
       "    <tr>\n",
       "      <th>PS4</th>\n",
       "      <td>141.09</td>\n",
       "      <td>15.96</td>\n",
       "      <td>108.74</td>\n",
       "    </tr>\n",
       "    <tr>\n",
       "      <th>PSP</th>\n",
       "      <td>0.42</td>\n",
       "      <td>10.47</td>\n",
       "      <td>0.13</td>\n",
       "    </tr>\n",
       "    <tr>\n",
       "      <th>PSV</th>\n",
       "      <td>11.36</td>\n",
       "      <td>21.04</td>\n",
       "      <td>10.98</td>\n",
       "    </tr>\n",
       "    <tr>\n",
       "      <th>Wii</th>\n",
       "      <td>11.92</td>\n",
       "      <td>3.39</td>\n",
       "      <td>17.45</td>\n",
       "    </tr>\n",
       "    <tr>\n",
       "      <th>WiiU</th>\n",
       "      <td>25.13</td>\n",
       "      <td>13.01</td>\n",
       "      <td>38.10</td>\n",
       "    </tr>\n",
       "    <tr>\n",
       "      <th>X360</th>\n",
       "      <td>74.52</td>\n",
       "      <td>1.57</td>\n",
       "      <td>140.05</td>\n",
       "    </tr>\n",
       "    <tr>\n",
       "      <th>XOne</th>\n",
       "      <td>51.59</td>\n",
       "      <td>0.34</td>\n",
       "      <td>93.12</td>\n",
       "    </tr>\n",
       "  </tbody>\n",
       "</table>\n",
       "</div>"
      ],
      "text/plain": [
       "          eu_sales  jp_sales  na_sales\n",
       "platform                              \n",
       "3DS          42.64     87.79     55.31\n",
       "DS            3.53      3.72      4.59\n",
       "PC           37.76      0.00     19.12\n",
       "PS3         106.86     35.29    103.38\n",
       "PS4         141.09     15.96    108.74\n",
       "PSP           0.42     10.47      0.13\n",
       "PSV          11.36     21.04     10.98\n",
       "Wii          11.92      3.39     17.45\n",
       "WiiU         25.13     13.01     38.10\n",
       "X360         74.52      1.57    140.05\n",
       "XOne         51.59      0.34     93.12"
      ]
     },
     "execution_count": 34,
     "metadata": {},
     "output_type": "execute_result"
    }
   ],
   "source": [
    "# определяем самые популярные платформы (топ-5) для пользователя каждого региона (NA, EU, JP)\n",
    "\n",
    "data_new.pivot_table(index='platform', values=['na_sales', 'eu_sales', 'jp_sales'], aggfunc='sum')"
   ]
  },
  {
   "cell_type": "markdown",
   "id": "b6602063",
   "metadata": {},
   "source": [
    "Топ-5 самых популярных платформ для каждого региона (в порядке убывания популярности):  \n",
    "NA - Северная Америка: X360, PS4, PS3, XOne, 3DS  \n",
    "EU - Европа: PS4, PS3, X360, XOne, 3DS  \n",
    "JP - Япония: 3DS, PS3, PSV, PS4, WiiU \n",
    "\n",
    "В Северной Америке популярны как американские, так и японские платформы, но Microsoft X360 лидирует с большим отрывом.\n",
    "В Европе также популярны как американские, так и японские платформы, но большей популярностью пользуются японские платформы Sony PS4, PS3 - у них большой отрыв от расположившегося на 3 месте X360.\n",
    "В Японии в топ-5 попали только японские платформы, при чем Nintendo более популярен, чем Sony - слишком большой отрыв 1го места от 2го. Наибольшую популярность имеет портативная платформа 3DS - это может быть связано с тем, что японцы достаточно много времени проводят на работе и в транспорте на работу и домой. Также в топ-5 попала еще одна портативная платформа PSV от Sony."
   ]
  },
  {
   "cell_type": "code",
   "execution_count": 35,
   "id": "6903f48d",
   "metadata": {},
   "outputs": [
    {
     "data": {
      "text/html": [
       "<div>\n",
       "<style scoped>\n",
       "    .dataframe tbody tr th:only-of-type {\n",
       "        vertical-align: middle;\n",
       "    }\n",
       "\n",
       "    .dataframe tbody tr th {\n",
       "        vertical-align: top;\n",
       "    }\n",
       "\n",
       "    .dataframe thead th {\n",
       "        text-align: right;\n",
       "    }\n",
       "</style>\n",
       "<table border=\"1\" class=\"dataframe\">\n",
       "  <thead>\n",
       "    <tr style=\"text-align: right;\">\n",
       "      <th></th>\n",
       "      <th>eu_sales</th>\n",
       "      <th>jp_sales</th>\n",
       "      <th>na_sales</th>\n",
       "    </tr>\n",
       "    <tr>\n",
       "      <th>genre</th>\n",
       "      <th></th>\n",
       "      <th></th>\n",
       "      <th></th>\n",
       "    </tr>\n",
       "  </thead>\n",
       "  <tbody>\n",
       "    <tr>\n",
       "      <th>Action</th>\n",
       "      <td>159.34</td>\n",
       "      <td>52.80</td>\n",
       "      <td>177.84</td>\n",
       "    </tr>\n",
       "    <tr>\n",
       "      <th>Adventure</th>\n",
       "      <td>9.46</td>\n",
       "      <td>8.24</td>\n",
       "      <td>8.92</td>\n",
       "    </tr>\n",
       "    <tr>\n",
       "      <th>Fighting</th>\n",
       "      <td>10.79</td>\n",
       "      <td>9.44</td>\n",
       "      <td>19.79</td>\n",
       "    </tr>\n",
       "    <tr>\n",
       "      <th>Misc</th>\n",
       "      <td>26.32</td>\n",
       "      <td>12.86</td>\n",
       "      <td>38.19</td>\n",
       "    </tr>\n",
       "    <tr>\n",
       "      <th>Platform</th>\n",
       "      <td>21.41</td>\n",
       "      <td>8.63</td>\n",
       "      <td>25.38</td>\n",
       "    </tr>\n",
       "    <tr>\n",
       "      <th>Puzzle</th>\n",
       "      <td>1.40</td>\n",
       "      <td>2.14</td>\n",
       "      <td>1.13</td>\n",
       "    </tr>\n",
       "    <tr>\n",
       "      <th>Racing</th>\n",
       "      <td>27.29</td>\n",
       "      <td>2.50</td>\n",
       "      <td>17.22</td>\n",
       "    </tr>\n",
       "    <tr>\n",
       "      <th>Role-Playing</th>\n",
       "      <td>48.53</td>\n",
       "      <td>65.44</td>\n",
       "      <td>64.00</td>\n",
       "    </tr>\n",
       "    <tr>\n",
       "      <th>Shooter</th>\n",
       "      <td>113.47</td>\n",
       "      <td>9.23</td>\n",
       "      <td>144.77</td>\n",
       "    </tr>\n",
       "    <tr>\n",
       "      <th>Simulation</th>\n",
       "      <td>14.55</td>\n",
       "      <td>10.41</td>\n",
       "      <td>7.97</td>\n",
       "    </tr>\n",
       "    <tr>\n",
       "      <th>Sports</th>\n",
       "      <td>69.09</td>\n",
       "      <td>8.01</td>\n",
       "      <td>81.53</td>\n",
       "    </tr>\n",
       "    <tr>\n",
       "      <th>Strategy</th>\n",
       "      <td>5.17</td>\n",
       "      <td>2.88</td>\n",
       "      <td>4.23</td>\n",
       "    </tr>\n",
       "  </tbody>\n",
       "</table>\n",
       "</div>"
      ],
      "text/plain": [
       "              eu_sales  jp_sales  na_sales\n",
       "genre                                     \n",
       "Action          159.34     52.80    177.84\n",
       "Adventure         9.46      8.24      8.92\n",
       "Fighting         10.79      9.44     19.79\n",
       "Misc             26.32     12.86     38.19\n",
       "Platform         21.41      8.63     25.38\n",
       "Puzzle            1.40      2.14      1.13\n",
       "Racing           27.29      2.50     17.22\n",
       "Role-Playing     48.53     65.44     64.00\n",
       "Shooter         113.47      9.23    144.77\n",
       "Simulation       14.55     10.41      7.97\n",
       "Sports           69.09      8.01     81.53\n",
       "Strategy          5.17      2.88      4.23"
      ]
     },
     "execution_count": 35,
     "metadata": {},
     "output_type": "execute_result"
    }
   ],
   "source": [
    "# определяем самые популярные жанры (топ-5) для пользователя каждого региона (NA, EU, JP)\n",
    "\n",
    "data_new.pivot_table(index='genre', values=['na_sales', 'eu_sales', 'jp_sales'], aggfunc='sum')"
   ]
  },
  {
   "cell_type": "markdown",
   "id": "df160398",
   "metadata": {},
   "source": [
    "Топ-5 самых популярных жанров для каждого региона (в порядке убывания популярности, не принимая во внимание жанр Misc - то,что не вошло в основные жанры):  \n",
    "NA - Северная Америка: Action, Shooter, Sports, Role-Playing, Platform  \n",
    "EU - Европа: Action, Shooter, Sports, Role-Playing, Racing  \n",
    "JP - Япония: Role-Playing, Action, Simulation, Fighting, Shooter  \n",
    "\n",
    "Первые четыре жанра (Action, Shooter, Sports, Role-Playing) полностью совпадают в Америке и Европе по распределению мест, то есть у пользователей из этих частей света очень схожие предпочтения. А в Японии 3 жанра (Role-Playing, Action, Shooter) совпадают с теми, что популярны в Америке и Европе, но находятся они на других позициях в списке. Например, если в Америке и Европе Role-Playing на 4 месте, то в Японии это самый популярный жанр, а Shooter, находящийся в Америке и Европе на 2 месте, в Японии опустился на 5 место."
   ]
  },
  {
   "cell_type": "code",
   "execution_count": 36,
   "id": "e6a4cb69",
   "metadata": {},
   "outputs": [
    {
     "data": {
      "text/html": [
       "<div>\n",
       "<style scoped>\n",
       "    .dataframe tbody tr th:only-of-type {\n",
       "        vertical-align: middle;\n",
       "    }\n",
       "\n",
       "    .dataframe tbody tr th {\n",
       "        vertical-align: top;\n",
       "    }\n",
       "\n",
       "    .dataframe thead th {\n",
       "        text-align: right;\n",
       "    }\n",
       "</style>\n",
       "<table border=\"1\" class=\"dataframe\">\n",
       "  <thead>\n",
       "    <tr style=\"text-align: right;\">\n",
       "      <th></th>\n",
       "      <th>eu_sales</th>\n",
       "      <th>jp_sales</th>\n",
       "      <th>na_sales</th>\n",
       "    </tr>\n",
       "    <tr>\n",
       "      <th>rating</th>\n",
       "      <th></th>\n",
       "      <th></th>\n",
       "      <th></th>\n",
       "    </tr>\n",
       "  </thead>\n",
       "  <tbody>\n",
       "    <tr>\n",
       "      <th>99999</th>\n",
       "      <td>91.50</td>\n",
       "      <td>108.84</td>\n",
       "      <td>103.31</td>\n",
       "    </tr>\n",
       "    <tr>\n",
       "      <th>E</th>\n",
       "      <td>113.03</td>\n",
       "      <td>28.33</td>\n",
       "      <td>114.37</td>\n",
       "    </tr>\n",
       "    <tr>\n",
       "      <th>E10+</th>\n",
       "      <td>55.37</td>\n",
       "      <td>8.19</td>\n",
       "      <td>75.70</td>\n",
       "    </tr>\n",
       "    <tr>\n",
       "      <th>M</th>\n",
       "      <td>193.96</td>\n",
       "      <td>21.20</td>\n",
       "      <td>231.57</td>\n",
       "    </tr>\n",
       "    <tr>\n",
       "      <th>T</th>\n",
       "      <td>52.96</td>\n",
       "      <td>26.02</td>\n",
       "      <td>66.02</td>\n",
       "    </tr>\n",
       "  </tbody>\n",
       "</table>\n",
       "</div>"
      ],
      "text/plain": [
       "        eu_sales  jp_sales  na_sales\n",
       "rating                              \n",
       "99999      91.50    108.84    103.31\n",
       "E         113.03     28.33    114.37\n",
       "E10+       55.37      8.19     75.70\n",
       "M         193.96     21.20    231.57\n",
       "T          52.96     26.02     66.02"
      ]
     },
     "execution_count": 36,
     "metadata": {},
     "output_type": "execute_result"
    }
   ],
   "source": [
    "# определяем, влияет ли рейтинг ESRB на продажи в отдельном регионе\n",
    "\n",
    "data_new.pivot_table(index='rating', values=['na_sales', 'eu_sales', 'jp_sales'], aggfunc='sum')"
   ]
  },
  {
   "cell_type": "markdown",
   "id": "ceafe146",
   "metadata": {},
   "source": [
    "Распределение рейтинга для каждого региона (в порядке убывания популярности):  \n",
    "NA - Северная Америка: M, E, без рейтинга, E10+, T  \n",
    "EU - Европа: M, E, без рейтинга, E10+, T  \n",
    "JP - Япония: без рейтинга, E, T, M, E10+  \n",
    "\n",
    "E - для всех от 6 лет,  E10+ - для всех от 10 лет, T - подросткам от 13 лет, M - для взрослых от 17 лет.\n",
    "\n",
    "Видно, что рейтинг влияет на продажи, при чем в Америке и Европе полностью совпадает распределение мест рейтинга. Самыми популярными являются игры для взрослых (рейтинг M) - они лидируют с больим отрывом от 2го места - игры для всех (рейтинг E). Также возможно, что в Америке и Европе рейтинг игры более высокий по возрасту, нежели в Японии (например, в Японии рейтинг игры T, а в Америке и Европе - рейтинг M).\n",
    "\n",
    "В Японии же самыми популярными являются игры без рейтинга, и в этой стране нет такого сильного разрыва между жанрами E, T, M, то есть, на первый взгляд, тут жанр в меньшей степени влияет на продажи, нежели в Америке и Европе. Но в Японии существует своя организация, которая выставляет рейтинги для игр, выпущенных в стране. Поэтому вполне возможно, что всем играм, у которых в таблице пропущен рейтинг, просто не присвоен рейтинг ESRB, а присвоен рейтинг местной CERO. Также в Японии наиболее популярны портативные платформы, а для них нельзя сделать игры, где были бы качественно отрисованы все жестокие сцены и т.д., поэтому, возможно, популярность игр 17+ ниже. "
   ]
  },
  {
   "cell_type": "markdown",
   "id": "8adfe53e",
   "metadata": {},
   "source": [
    "### Общие выводы по портрету пользователя\n",
    "\n",
    "В Америке и Европе предпочтения пользователей очень схожи, если не сказать одинаковы - у них почти одинаково популярны как американские, так и японские платформы, предпочитают жанры Action, Shooter, Sports, Role-Playing и основные продажи идут от игр для взрослых с рейтингом M (на втором месте игры для всех от 6 лет с рейтингом E).   \n",
    "В Японии предпочтения пользователей несколько иные - в топ-5 вошли только японские платформы, при чем на 1 и на 3 местах портативные, предпочитают жанры Role-Playing, Action, Simulation, Fighting, Shooter, и почти нет зависимости от рейтинга - игры с рейтингом E и T одинаково полулярны, а игры с рейтингом M не сильно отстают. Но наибольшие продажи идут от игр без рейтинга ESRB. Т.к. неизвестно, есть ли у этих игр рейтинг местной организации, то по Японии невозможно четко определить, если ли зависимость продаж от рейтинга игры."
   ]
  },
  {
   "cell_type": "markdown",
   "id": "749e8c57",
   "metadata": {},
   "source": [
    "## Проверка гипотез"
   ]
  },
  {
   "cell_type": "markdown",
   "id": "7a5eb2c9",
   "metadata": {},
   "source": [
    "### Гипотеза 1\n",
    "\n",
    "Средние пользовательские рейтинги платформ Xbox One и PC одинаковые.  \n",
    "\n",
    "Критический уровень статистической значимости примем 0.05."
   ]
  },
  {
   "cell_type": "code",
   "execution_count": 37,
   "id": "adddd62f",
   "metadata": {},
   "outputs": [
    {
     "name": "stdout",
     "output_type": "stream",
     "text": [
      "Средний пользовательский рейтинг платформы XOne: 6\n",
      "Средний пользовательский рейтинг платформы PC: 7\n",
      "p-значение: 1.3896435533548819e-05\n",
      "Отвергаем нулевую гипотезу\n"
     ]
    }
   ],
   "source": [
    "xone = pd.Series(data_new.query('(platform == \"XOne\") & (user_score != 99999)')['user_score']) # выделяем столбец с оценками пользователей для платформы Xbox One\n",
    "pc = pd.Series(data.query('(platform == \"PC\") & (user_score != 99999)')['user_score']) # выделяем столбец с оценками пользователей для платформы PC\n",
    "\n",
    "print('Средний пользовательский рейтинг платформы XOne:', xone.mean().astype(int))\n",
    "print('Средний пользовательский рейтинг платформы PC:', pc.mean().astype(int))\n",
    "      \n",
    "alpha = .05\n",
    "      \n",
    "results = st.ttest_ind(xone, pc)\n",
    "\n",
    "print('p-значение:', results.pvalue)\n",
    "\n",
    "if results.pvalue < alpha:\n",
    "    print(\"Отвергаем нулевую гипотезу\")\n",
    "else:\n",
    "    print(\"Не получилось отвергнуть нулевую гипотезу\")"
   ]
  },
  {
   "cell_type": "markdown",
   "id": "76f18328",
   "metadata": {},
   "source": [
    "Нулевая гипотеза: средние пользовательские рейтинги платформ Xbox One и PC одинаковые.  \n",
    "Альтернативная гипотеза: средние пользовательские рейтинги платформ Xbox One и PC не равны.  \n",
    "Для сравнения средних двух генеральных совокупностей используются методы st.ttest_ind и pvalue (показывает вероятность ошибки, если отвергнем нулевую гипотезу).  \n",
    "\n",
    "По итогам теста нулевая гипотеза отвергается. Посчитав среднее выборок по двум платформам видим, что средние пользовательские оценки различаются - для платформы XOne средняя оценка ниже, чем для PC."
   ]
  },
  {
   "cell_type": "markdown",
   "id": "fc4f58ee",
   "metadata": {},
   "source": [
    "### Гипотеза 2\n",
    "\n",
    "Средние пользовательские рейтинги жанров Action и Sports разные.  \n",
    "\n",
    "Критический уровень статистической значимости примем 0.05."
   ]
  },
  {
   "cell_type": "code",
   "execution_count": 38,
   "id": "22457afe",
   "metadata": {},
   "outputs": [
    {
     "name": "stdout",
     "output_type": "stream",
     "text": [
      "Средний пользовательский рейтинг жанра Action: 6\n",
      "Средний пользовательский рейтинг жанра Sports: 6\n",
      "p-значение: 0.09588832822398892\n",
      "Не получилось отвергнуть нулевую гипотезу\n"
     ]
    }
   ],
   "source": [
    "action = pd.Series(data_new.query('(genre == \"Action\") & (user_score != 99999)')['user_score']) # выделяем столбец с оценками пользователей для жанра Action\n",
    "sports = pd.Series(data.query('(genre == \"Sports\") & (user_score != 99999)')['user_score']) # выделяем столбец с оценками пользователей для жанра Sports\n",
    "\n",
    "print('Средний пользовательский рейтинг жанра Action:', action.mean().astype(int))\n",
    "print('Средний пользовательский рейтинг жанра Sports:', sports.mean().astype(int))\n",
    "      \n",
    "alpha = .05\n",
    "      \n",
    "results = st.ttest_ind(action, sports)\n",
    "\n",
    "print('p-значение:', results.pvalue)\n",
    "\n",
    "if results.pvalue < alpha:\n",
    "    print(\"Отвергаем нулевую гипотезу\")\n",
    "else:\n",
    "    print(\"Не получилось отвергнуть нулевую гипотезу\")"
   ]
  },
  {
   "cell_type": "markdown",
   "id": "26492049",
   "metadata": {},
   "source": [
    "Нулевая гипотеза: средние пользовательские рейтинги жанров Action и Sports одинаковые.  \n",
    "Альтернативная гипотеза: средние пользовательские рейтинги жанров Action и Sports не равны.  \n",
    "Для сравнения средних двух генеральных совокупностей используются методы st.ttest_ind и pvalue (показывает вероятность ошибки, если отвергнем нулевую гипотезу).  \n",
    "\n",
    "По итогам теста не получилось отвергнуть нулевую гипотезу. Посчитав среднее выборок по двум жанрам видим, что средние пользовательские оценки одинаковые и равны 6."
   ]
  },
  {
   "cell_type": "markdown",
   "id": "1cdeeafa",
   "metadata": {},
   "source": [
    "## Общий вывод"
   ]
  },
  {
   "cell_type": "markdown",
   "id": "76c9770e",
   "metadata": {},
   "source": [
    "### Цель проекта:\n",
    "Выявить определяющие успешность игры закономерности. Это позволит сделать ставку на потенциально популярный продукт и спланировать рекламные кампании на 2017 год.\n",
    "\n",
    "### Входные данные:\n",
    "Исторические данные о продажах игр, оценки пользователей и экспертов, жанры и платформы из открытых источников.\n",
    "\n",
    "### Предобработка данных:\n",
    "1. Изменены наименования столбцов:\n",
    "    1. все столбцы - наименования приведены к нижнему регистру.\n",
    "2. Заменены отсутствующие данные:\n",
    "    1. 'name', 'year_of_release', 'genre', 'critic_score' и 'user_score', 'rating' - заменены на 99999;\n",
    "    2. в столбце 'user_score' - значение 'tbd' заменено на 99999.\n",
    "2. Изменены типы данных:\n",
    "    1. 'year_of_release', 'critic_score' - вещественный тип данных изменен на целочисленный;\n",
    "    2. 'user_score' - строковый тип данных изменен на вещественный.\n",
    "3. Сделаны дополнительные расчеты:\n",
    "    1. 'sales_total' - подсчитаны общие продажи по всем регионам.\n",
    "\n",
    "\n",
    "### Анализ данных\n",
    "Наиболее популярными платформами за весь период данных являются PS2, X360, PS3, Wii, DS, PS. При этом наибольшее количество игр выпускалось в 2007-2011 годах. До этого резкий рост был в 2002 году, а еще раньше в 1994 году (количество выпускаемых игр увеличилось в 2 раза по сравнению с 1993 годом).  \n",
    "У платформ, которые выпустились в 2004-2006 годах, пошел резкий спад количества выпускаемых игр после 2011 года. Скорее всего это связано с экономическим кризисом, который начался в 2008 году. К 2011 году завершили разработки уже начатых игр, а новые разработки не торопились начинать.  \n",
    "Средний срок продаж платформы (с момента выпуска до снятия с производства) - 9-11 лет. Но у Nintendo срок жизни платформы меньше - 7-9 лет. При этом рост происходит в первые 5 лет продаж.   \n",
    "  \n",
    "Наиболее прибыльными платформами за актуальный период 2012-2016 годы являются 3DS, PS3, PS4, X360, XOne.\n",
    "Продажи всех платформ к 2016 году падают, пик у всех приходится на 2013 год (из выбранного периода), затем спад. У PS3, 3DS и X360, по факту, пик пришелся на более ранний период, который не вошел в выбранный, и резкий спад пошел после 2011 года - эти платформы были выпущены раньше, чем PS4 и XOne, хотя уровень продаж все еще был высокий.\n",
    "\n",
    "Продажи всех топовых платформ слабо зависят от оценок критиков и не зависят от оценок пользователей. Но, по факту, обычно продажа игр еще зависит от цены самой игры и от того, насколько сильно ждут ее выхода пользователи. Например, если игра дешевая и короткая по времени прохождения (просто провести несколько вечеров за игрой), то пользователь может и смотреть на оценки. А если игра известная, дорогая, с долгим временем прохождения, то больше смотрят на оценки (как критиков, так  других пользователей).\n",
    "\n",
    "Средние пользовательские рейтинги всех платформ находятся в пределах 6-8 баллов, а оценки критиков - в пределах 70-80 баллов.\n",
    "\n",
    "Наиболее продаваемые жанры (по общим продажам) - это 'Action', 'Shooter', 'Role-Playing' и 'Sports'. Эти 4 жанра вместе составили 77% от всех продаж. Особенно заметно выделяются продажи жанров 'Action' и 'Shooter' (52% от всех продаж). А среди низких продаж выделяется жанр 'Puzzle'. Жанр 'Action' самый продающийся, потому что название жанра слишком широкое, и почти любую современную игру можно отнести сюда, поэтому сюда попадают многие игры. А жанр 'Puzzle' в большей степени актуален для мобильных телефонов, и разработчики больше зарабатывают на рекламе в этих играх, а не прямыми продажами игры.   \n",
    "Но если взглянуть на средние и медианные продажи, то картина несколько меняется. Наиболее популярные жанры - это 'Shooter', 'Platform', 'Sports', 'Role-Playing', 'Racing'. При чем 'Shooter' лидирует с большим отрывом. Внизу списка находятся жанры 'Puzzle' и 'Adventure'.   \n",
    "Разница в распределении игр по жанрам в общих продажах и в средних может быть из-за того, что в общие продажи  могут попасть множество мелких игр с низкими продажами.\n",
    "\n",
    "### Портрет пользователя по каждому региону\n",
    "**Топ-5 самых популярных платформ для каждого региона** (в порядке убывания популярности):\n",
    "NA - Северная Америка: X360, PS4, PS3, XOne, 3DS\n",
    "EU - Европа: PS4, PS3, X360, XOne, 3DS\n",
    "JP - Япония: 3DS, PS3, PSV, PS4, WiiU\n",
    "\n",
    "В Северной Америке популярны как американские, так и японские платформы, но Microsoft X360 лидирует с большим отрывом. В Европе также популярны как американские, так и японские платформы, но большей популярностью пользуются японские платформы Sony PS4, PS3 - у них большой отрыв от расположившегося на 3 месте X360. В Японии в топ-5 попали только японские платформы, при чем Nintendo более популярен, чем Sony - слишком большой отрыв 1го места от 2го. Наибольшую популярность имеет портативная платформа 3DS - это может быть связано с тем, что японцы достаточно много времени проводят на работе и в транспорте на работу и домой. Также в топ-5 попала еще одна портативная платформа PSV от Sony.\n",
    "\n",
    "**Топ-5 самых популярных жанров для каждого региона** (в порядке убывания популярности, не принимая во внимание жанр Misc - то,что не вошло в основные жанры):\n",
    "NA - Северная Америка: Action, Shooter, Sports, Role-Playing, Platform\n",
    "EU - Европа: Action, Shooter, Sports, Role-Playing, Racing\n",
    "JP - Япония: Role-Playing, Action, Simulation, Fighting, Shooter\n",
    "\n",
    "Первые четыре жанра (Action, Shooter, Sports, Role-Playing) полностью совпадают в Америке и Европе по распределению мест, то есть у пользователей из этих частей света очень схожие предпочтения. А в Японии 3 жанра (Role-Playing, Action, Shooter) совпадают с теми, что популярны в Америке и Европе, но находятся они на других позициях в списке. Например, если в Америке и Европе Role-Playing на 4 месте, то в Японии это самый популярный жанр, а Shooter, находящийся в Америке и Европе на 2 месте, в Японии опустился на 5 место.\n",
    "\n",
    "**Распределение рейтинга для каждого региона** (в порядке убывания популярности):\n",
    "NA - Северная Америка: M, E, без рейтинга, E10+, T\n",
    "EU - Европа: M, E, без рейтинга, E10+, T\n",
    "JP - Япония: без рейтинга, E, T, M, E10+\n",
    "\n",
    "E - для всех от 6 лет, E10+ - для всех от 10 лет, T - подросткам от 13 лет, M - для взрослых от 17 лет.\n",
    "\n",
    "Видно, что рейтинг влияет на продажи, при чем в Америке и Европе полностью совпадает распределение мест рейтинга. Самыми популярными являются игры для взрослых (рейтинг M) - они лидируют с больим отрывом от 2го места - игры для всех (рейтинг E). Также возможно, что в Америке и Европе рейтинг игры более высокий по возрасту, нежели в Японии (например, в Японии рейтинг игры T, а в Америке и Европе - рейтинг M).   \n",
    "В Японии же самыми популярными являются игры без рейтинга, и в этой стране нет такого сильного разрыва между играми с рейтингом E, T, M, то есть, на первый взгляд, тут рейтинг в меньшей степени влияет на продажи, нежели в Америке и Европе. Но в Японии существует своя организация, которая выставляет рейтинги для игр, выпущенных в стране. Поэтому вполне возможно, что всем играм, у которых в таблице пропущен рейтинг, просто не присвоен рейтинг ESRB, а присвоен рейтинг местной CERO. Также в Японии наиболее популярны портативные платформы, а для них нельзя сделать игры, где были бы качественно отрисованы все жестокие сцены и т.д., поэтому, возможно, популярность игр 17+ ниже. \n",
    "\n",
    "Таким образом, в Америке и Европе предпочтения пользователей очень схожи, если не сказать одинаковы - у них почти одинаково популярны как американские, так и японские платформы, предпочитают жанры Action, Shooter, Sports, Role-Playing и основные продажи идут от игр для взрослых с рейтингом M (на втором месте игры для всех от 6 лет с рейтингом E).\n",
    "В Японии предпочтения пользователей несколько иные - в топ-5 вошли только японские платформы, при чем на 1 и на 3 местах портативные, предпочитают жанры Role-Playing, Action, Simulation, Fighting, Shooter, и почти нет зависимости от рейтинга - игры с рейтингом E и T одинаково полулярны, а игры с рейтингом M не сильно отстают. Но наибольшие продажи идут от игр без рейтинга ESRB. Т.к. неизвестно, есть ли у этих игр рейтинг местной организации, то по Японии невозможно четко определить, если ли зависимость продаж от рейтинга игры."
   ]
  }
 ],
 "metadata": {
  "ExecuteTimeLog": [
   {
    "duration": 44,
    "start_time": "2022-06-15T17:11:10.941Z"
   },
   {
    "duration": 54,
    "start_time": "2022-06-15T17:12:43.966Z"
   },
   {
    "duration": 34,
    "start_time": "2022-06-15T17:21:53.503Z"
   },
   {
    "duration": 33,
    "start_time": "2022-06-15T17:34:58.931Z"
   },
   {
    "duration": 47,
    "start_time": "2022-06-16T05:52:54.893Z"
   },
   {
    "duration": 1297,
    "start_time": "2022-06-16T05:53:01.385Z"
   },
   {
    "duration": 112,
    "start_time": "2022-06-16T05:53:02.684Z"
   },
   {
    "duration": 17,
    "start_time": "2022-06-16T05:53:02.798Z"
   },
   {
    "duration": 3,
    "start_time": "2022-06-16T05:53:02.817Z"
   },
   {
    "duration": 14,
    "start_time": "2022-06-16T05:53:02.822Z"
   },
   {
    "duration": 10,
    "start_time": "2022-06-16T05:53:02.837Z"
   },
   {
    "duration": 18,
    "start_time": "2022-06-16T05:53:02.848Z"
   },
   {
    "duration": 13,
    "start_time": "2022-06-16T05:53:11.280Z"
   },
   {
    "duration": 14,
    "start_time": "2022-06-16T05:54:05.479Z"
   },
   {
    "duration": 10,
    "start_time": "2022-06-16T05:54:22.035Z"
   },
   {
    "duration": 12,
    "start_time": "2022-06-16T06:02:24.324Z"
   },
   {
    "duration": 9,
    "start_time": "2022-06-16T06:02:42.160Z"
   },
   {
    "duration": 3,
    "start_time": "2022-06-16T06:05:12.298Z"
   },
   {
    "duration": 2,
    "start_time": "2022-06-16T06:08:51.499Z"
   },
   {
    "duration": 71,
    "start_time": "2022-06-16T06:08:51.506Z"
   },
   {
    "duration": 14,
    "start_time": "2022-06-16T06:08:51.580Z"
   },
   {
    "duration": 4,
    "start_time": "2022-06-16T06:08:51.596Z"
   },
   {
    "duration": 12,
    "start_time": "2022-06-16T06:08:51.602Z"
   },
   {
    "duration": 8,
    "start_time": "2022-06-16T06:08:51.615Z"
   },
   {
    "duration": 5,
    "start_time": "2022-06-16T06:08:51.625Z"
   },
   {
    "duration": 9,
    "start_time": "2022-06-16T06:08:51.664Z"
   },
   {
    "duration": 10,
    "start_time": "2022-06-16T06:08:51.674Z"
   },
   {
    "duration": 10,
    "start_time": "2022-06-16T06:08:51.686Z"
   },
   {
    "duration": 5,
    "start_time": "2022-06-16T06:08:51.698Z"
   },
   {
    "duration": 7,
    "start_time": "2022-06-16T06:08:51.705Z"
   },
   {
    "duration": 373,
    "start_time": "2022-06-16T06:08:54.814Z"
   },
   {
    "duration": 339,
    "start_time": "2022-06-16T06:11:45.776Z"
   },
   {
    "duration": 290,
    "start_time": "2022-06-16T06:14:22.716Z"
   },
   {
    "duration": 74,
    "start_time": "2022-06-16T06:15:24.250Z"
   },
   {
    "duration": 19,
    "start_time": "2022-06-16T06:15:31.305Z"
   },
   {
    "duration": 312,
    "start_time": "2022-06-16T06:15:54.448Z"
   },
   {
    "duration": 154,
    "start_time": "2022-06-16T06:18:34.053Z"
   },
   {
    "duration": 215,
    "start_time": "2022-06-16T06:19:07.390Z"
   },
   {
    "duration": 49,
    "start_time": "2022-06-16T09:26:14.608Z"
   },
   {
    "duration": 1314,
    "start_time": "2022-06-16T09:26:25.636Z"
   },
   {
    "duration": 113,
    "start_time": "2022-06-16T09:26:26.952Z"
   },
   {
    "duration": 14,
    "start_time": "2022-06-16T09:26:27.067Z"
   },
   {
    "duration": 8,
    "start_time": "2022-06-16T09:26:27.083Z"
   },
   {
    "duration": 13,
    "start_time": "2022-06-16T09:26:27.092Z"
   },
   {
    "duration": 16,
    "start_time": "2022-06-16T09:26:27.107Z"
   },
   {
    "duration": 5,
    "start_time": "2022-06-16T09:26:27.126Z"
   },
   {
    "duration": 19,
    "start_time": "2022-06-16T09:26:27.133Z"
   },
   {
    "duration": 6,
    "start_time": "2022-06-16T09:26:27.153Z"
   },
   {
    "duration": 8,
    "start_time": "2022-06-16T09:26:27.162Z"
   },
   {
    "duration": 5,
    "start_time": "2022-06-16T09:26:27.171Z"
   },
   {
    "duration": 6,
    "start_time": "2022-06-16T09:26:27.177Z"
   },
   {
    "duration": 371,
    "start_time": "2022-06-16T09:26:27.184Z"
   },
   {
    "duration": 285,
    "start_time": "2022-06-16T09:26:27.557Z"
   },
   {
    "duration": 142,
    "start_time": "2022-06-16T09:26:27.844Z"
   },
   {
    "duration": 143,
    "start_time": "2022-06-16T09:26:30.032Z"
   },
   {
    "duration": 164,
    "start_time": "2022-06-16T09:26:46.228Z"
   },
   {
    "duration": 162,
    "start_time": "2022-06-16T09:27:00.318Z"
   },
   {
    "duration": 148,
    "start_time": "2022-06-16T09:27:15.097Z"
   },
   {
    "duration": 242,
    "start_time": "2022-06-16T09:27:37.337Z"
   },
   {
    "duration": 61,
    "start_time": "2022-06-16T09:30:09.475Z"
   },
   {
    "duration": 3,
    "start_time": "2022-06-16T09:30:14.427Z"
   },
   {
    "duration": 83,
    "start_time": "2022-06-16T09:30:14.432Z"
   },
   {
    "duration": 20,
    "start_time": "2022-06-16T09:30:14.516Z"
   },
   {
    "duration": 17,
    "start_time": "2022-06-16T09:30:14.539Z"
   },
   {
    "duration": 20,
    "start_time": "2022-06-16T09:30:14.558Z"
   },
   {
    "duration": 11,
    "start_time": "2022-06-16T09:30:14.580Z"
   },
   {
    "duration": 10,
    "start_time": "2022-06-16T09:30:14.593Z"
   },
   {
    "duration": 19,
    "start_time": "2022-06-16T09:30:14.605Z"
   },
   {
    "duration": 6,
    "start_time": "2022-06-16T09:30:14.625Z"
   },
   {
    "duration": 17,
    "start_time": "2022-06-16T09:30:14.633Z"
   },
   {
    "duration": 10,
    "start_time": "2022-06-16T09:30:14.653Z"
   },
   {
    "duration": 10,
    "start_time": "2022-06-16T09:30:14.665Z"
   },
   {
    "duration": 364,
    "start_time": "2022-06-16T09:30:14.676Z"
   },
   {
    "duration": 309,
    "start_time": "2022-06-16T09:30:15.042Z"
   },
   {
    "duration": 159,
    "start_time": "2022-06-16T09:30:15.353Z"
   },
   {
    "duration": 172,
    "start_time": "2022-06-16T09:30:15.514Z"
   },
   {
    "duration": 151,
    "start_time": "2022-06-16T09:30:15.688Z"
   },
   {
    "duration": 181,
    "start_time": "2022-06-16T09:30:15.840Z"
   },
   {
    "duration": 174,
    "start_time": "2022-06-16T09:30:16.023Z"
   },
   {
    "duration": 229,
    "start_time": "2022-06-16T09:30:16.198Z"
   },
   {
    "duration": 8,
    "start_time": "2022-06-16T09:30:16.429Z"
   },
   {
    "duration": 51,
    "start_time": "2022-06-16T09:30:16.439Z"
   },
   {
    "duration": 1340,
    "start_time": "2022-06-16T09:30:19.911Z"
   },
   {
    "duration": 13,
    "start_time": "2022-06-16T09:32:58.659Z"
   },
   {
    "duration": 215,
    "start_time": "2022-06-16T09:33:19.713Z"
   },
   {
    "duration": 321,
    "start_time": "2022-06-16T09:36:01.063Z"
   },
   {
    "duration": 152,
    "start_time": "2022-06-16T09:37:05.931Z"
   },
   {
    "duration": 194,
    "start_time": "2022-06-16T09:37:26.320Z"
   },
   {
    "duration": 174,
    "start_time": "2022-06-16T09:40:40.119Z"
   },
   {
    "duration": 2,
    "start_time": "2022-06-16T09:40:46.699Z"
   },
   {
    "duration": 99,
    "start_time": "2022-06-16T09:40:46.703Z"
   },
   {
    "duration": 14,
    "start_time": "2022-06-16T09:40:46.803Z"
   },
   {
    "duration": 4,
    "start_time": "2022-06-16T09:40:46.819Z"
   },
   {
    "duration": 15,
    "start_time": "2022-06-16T09:40:46.826Z"
   },
   {
    "duration": 9,
    "start_time": "2022-06-16T09:40:46.842Z"
   },
   {
    "duration": 5,
    "start_time": "2022-06-16T09:40:46.852Z"
   },
   {
    "duration": 11,
    "start_time": "2022-06-16T09:40:46.858Z"
   },
   {
    "duration": 8,
    "start_time": "2022-06-16T09:40:46.870Z"
   },
   {
    "duration": 8,
    "start_time": "2022-06-16T09:40:46.879Z"
   },
   {
    "duration": 9,
    "start_time": "2022-06-16T09:40:46.890Z"
   },
   {
    "duration": 28,
    "start_time": "2022-06-16T09:40:46.900Z"
   },
   {
    "duration": 374,
    "start_time": "2022-06-16T09:40:46.930Z"
   },
   {
    "duration": 293,
    "start_time": "2022-06-16T09:40:47.305Z"
   },
   {
    "duration": 260,
    "start_time": "2022-06-16T09:40:47.600Z"
   },
   {
    "duration": 150,
    "start_time": "2022-06-16T09:40:47.862Z"
   },
   {
    "duration": 144,
    "start_time": "2022-06-16T09:40:48.014Z"
   },
   {
    "duration": 158,
    "start_time": "2022-06-16T09:40:48.160Z"
   },
   {
    "duration": 164,
    "start_time": "2022-06-16T09:40:48.319Z"
   },
   {
    "duration": 168,
    "start_time": "2022-06-16T09:40:48.485Z"
   },
   {
    "duration": 7,
    "start_time": "2022-06-16T09:40:48.654Z"
   },
   {
    "duration": 49,
    "start_time": "2022-06-16T09:40:48.662Z"
   },
   {
    "duration": 1148,
    "start_time": "2022-06-16T09:40:48.713Z"
   },
   {
    "duration": 183,
    "start_time": "2022-06-16T09:40:49.863Z"
   },
   {
    "duration": 237,
    "start_time": "2022-06-16T09:40:50.048Z"
   },
   {
    "duration": 18,
    "start_time": "2022-06-16T09:40:50.286Z"
   },
   {
    "duration": 161,
    "start_time": "2022-06-16T09:40:50.305Z"
   },
   {
    "duration": 270,
    "start_time": "2022-06-16T09:40:50.467Z"
   },
   {
    "duration": 195,
    "start_time": "2022-06-16T09:40:52.751Z"
   },
   {
    "duration": 24,
    "start_time": "2022-06-16T09:42:27.046Z"
   },
   {
    "duration": 160,
    "start_time": "2022-06-16T09:42:56.934Z"
   },
   {
    "duration": 187,
    "start_time": "2022-06-16T09:51:31.997Z"
   },
   {
    "duration": 1335,
    "start_time": "2022-06-16T09:55:54.757Z"
   },
   {
    "duration": 29,
    "start_time": "2022-06-16T10:03:46.753Z"
   },
   {
    "duration": 20,
    "start_time": "2022-06-16T10:03:58.999Z"
   },
   {
    "duration": 3,
    "start_time": "2022-06-16T10:04:02.571Z"
   },
   {
    "duration": 77,
    "start_time": "2022-06-16T10:04:02.577Z"
   },
   {
    "duration": 13,
    "start_time": "2022-06-16T10:04:02.656Z"
   },
   {
    "duration": 5,
    "start_time": "2022-06-16T10:04:02.670Z"
   },
   {
    "duration": 16,
    "start_time": "2022-06-16T10:04:02.676Z"
   },
   {
    "duration": 8,
    "start_time": "2022-06-16T10:04:02.694Z"
   },
   {
    "duration": 26,
    "start_time": "2022-06-16T10:04:02.704Z"
   },
   {
    "duration": 9,
    "start_time": "2022-06-16T10:04:02.732Z"
   },
   {
    "duration": 20,
    "start_time": "2022-06-16T10:04:02.743Z"
   },
   {
    "duration": 92,
    "start_time": "2022-06-16T10:04:02.765Z"
   },
   {
    "duration": 5,
    "start_time": "2022-06-16T10:04:02.859Z"
   },
   {
    "duration": 10,
    "start_time": "2022-06-16T10:04:02.866Z"
   },
   {
    "duration": 338,
    "start_time": "2022-06-16T10:04:02.877Z"
   },
   {
    "duration": 314,
    "start_time": "2022-06-16T10:04:03.217Z"
   },
   {
    "duration": 144,
    "start_time": "2022-06-16T10:04:03.532Z"
   },
   {
    "duration": 161,
    "start_time": "2022-06-16T10:04:03.678Z"
   },
   {
    "duration": 151,
    "start_time": "2022-06-16T10:04:03.840Z"
   },
   {
    "duration": 188,
    "start_time": "2022-06-16T10:04:03.993Z"
   },
   {
    "duration": 165,
    "start_time": "2022-06-16T10:04:04.182Z"
   },
   {
    "duration": 164,
    "start_time": "2022-06-16T10:04:04.349Z"
   },
   {
    "duration": 14,
    "start_time": "2022-06-16T10:04:04.515Z"
   },
   {
    "duration": 28,
    "start_time": "2022-06-16T10:04:04.530Z"
   },
   {
    "duration": 1377,
    "start_time": "2022-06-16T10:04:04.559Z"
   },
   {
    "duration": 179,
    "start_time": "2022-06-16T10:04:05.937Z"
   },
   {
    "duration": 292,
    "start_time": "2022-06-16T10:04:06.118Z"
   },
   {
    "duration": 21,
    "start_time": "2022-06-16T10:04:06.412Z"
   },
   {
    "duration": 167,
    "start_time": "2022-06-16T10:04:06.436Z"
   },
   {
    "duration": 163,
    "start_time": "2022-06-16T10:04:06.605Z"
   },
   {
    "duration": 1393,
    "start_time": "2022-06-16T10:04:06.771Z"
   },
   {
    "duration": 18,
    "start_time": "2022-06-16T10:04:08.166Z"
   },
   {
    "duration": 21,
    "start_time": "2022-06-16T10:04:29.647Z"
   },
   {
    "duration": 21,
    "start_time": "2022-06-16T10:04:56.641Z"
   },
   {
    "duration": 23,
    "start_time": "2022-06-16T10:06:08.568Z"
   },
   {
    "duration": 25,
    "start_time": "2022-06-16T10:06:17.980Z"
   },
   {
    "duration": 21,
    "start_time": "2022-06-16T10:06:55.652Z"
   },
   {
    "duration": 27,
    "start_time": "2022-06-16T10:09:43.861Z"
   },
   {
    "duration": 3,
    "start_time": "2022-06-16T10:11:37.415Z"
   },
   {
    "duration": 15,
    "start_time": "2022-06-16T10:11:41.346Z"
   },
   {
    "duration": 22,
    "start_time": "2022-06-16T10:12:21.081Z"
   },
   {
    "duration": 22,
    "start_time": "2022-06-16T10:12:32.698Z"
   },
   {
    "duration": 15,
    "start_time": "2022-06-16T10:12:54.080Z"
   },
   {
    "duration": 204,
    "start_time": "2022-06-16T10:13:40.457Z"
   },
   {
    "duration": 202,
    "start_time": "2022-06-16T10:14:56.908Z"
   },
   {
    "duration": 37,
    "start_time": "2022-06-16T10:15:22.803Z"
   },
   {
    "duration": 182,
    "start_time": "2022-06-16T10:15:55.453Z"
   },
   {
    "duration": 192,
    "start_time": "2022-06-16T10:17:50.949Z"
   },
   {
    "duration": 14,
    "start_time": "2022-06-16T10:26:28.207Z"
   },
   {
    "duration": 16,
    "start_time": "2022-06-16T10:29:20.501Z"
   },
   {
    "duration": 19,
    "start_time": "2022-06-16T10:30:01.685Z"
   },
   {
    "duration": 22,
    "start_time": "2022-06-16T10:30:17.680Z"
   },
   {
    "duration": 24,
    "start_time": "2022-06-16T10:51:06.367Z"
   },
   {
    "duration": 205,
    "start_time": "2022-06-16T10:52:34.459Z"
   },
   {
    "duration": 21,
    "start_time": "2022-06-16T10:55:51.369Z"
   },
   {
    "duration": 1112,
    "start_time": "2022-06-16T10:57:06.654Z"
   },
   {
    "duration": 85,
    "start_time": "2022-06-16T10:57:07.769Z"
   },
   {
    "duration": 19,
    "start_time": "2022-06-16T10:57:07.855Z"
   },
   {
    "duration": 21,
    "start_time": "2022-06-16T10:57:07.876Z"
   },
   {
    "duration": 27,
    "start_time": "2022-06-16T10:57:07.899Z"
   },
   {
    "duration": 31,
    "start_time": "2022-06-16T10:57:07.928Z"
   },
   {
    "duration": 30,
    "start_time": "2022-06-16T10:57:07.961Z"
   },
   {
    "duration": 48,
    "start_time": "2022-06-16T10:57:07.993Z"
   },
   {
    "duration": 39,
    "start_time": "2022-06-16T10:57:08.043Z"
   },
   {
    "duration": 26,
    "start_time": "2022-06-16T10:57:08.084Z"
   },
   {
    "duration": 31,
    "start_time": "2022-06-16T10:57:08.112Z"
   },
   {
    "duration": 51,
    "start_time": "2022-06-16T10:57:08.146Z"
   },
   {
    "duration": 479,
    "start_time": "2022-06-16T10:57:08.199Z"
   },
   {
    "duration": 328,
    "start_time": "2022-06-16T10:57:08.681Z"
   },
   {
    "duration": 167,
    "start_time": "2022-06-16T10:57:09.011Z"
   },
   {
    "duration": 171,
    "start_time": "2022-06-16T10:57:09.180Z"
   },
   {
    "duration": 156,
    "start_time": "2022-06-16T10:57:09.353Z"
   },
   {
    "duration": 179,
    "start_time": "2022-06-16T10:57:09.511Z"
   },
   {
    "duration": 203,
    "start_time": "2022-06-16T10:57:09.692Z"
   },
   {
    "duration": 285,
    "start_time": "2022-06-16T10:57:09.897Z"
   },
   {
    "duration": 8,
    "start_time": "2022-06-16T10:57:10.184Z"
   },
   {
    "duration": 53,
    "start_time": "2022-06-16T10:57:10.194Z"
   },
   {
    "duration": 1220,
    "start_time": "2022-06-16T10:57:10.249Z"
   },
   {
    "duration": 180,
    "start_time": "2022-06-16T10:57:11.471Z"
   },
   {
    "duration": 263,
    "start_time": "2022-06-16T10:57:11.653Z"
   },
   {
    "duration": 21,
    "start_time": "2022-06-16T10:57:11.918Z"
   },
   {
    "duration": 182,
    "start_time": "2022-06-16T10:57:11.940Z"
   },
   {
    "duration": 155,
    "start_time": "2022-06-16T10:57:12.127Z"
   },
   {
    "duration": 1507,
    "start_time": "2022-06-16T10:57:12.284Z"
   },
   {
    "duration": 21,
    "start_time": "2022-06-16T10:57:13.793Z"
   },
   {
    "duration": 189,
    "start_time": "2022-06-16T10:57:13.827Z"
   },
   {
    "duration": 193,
    "start_time": "2022-06-16T10:57:14.018Z"
   },
   {
    "duration": 185,
    "start_time": "2022-06-16T10:57:14.213Z"
   },
   {
    "duration": 16,
    "start_time": "2022-06-16T10:57:14.400Z"
   },
   {
    "duration": 16,
    "start_time": "2022-06-16T10:57:14.428Z"
   },
   {
    "duration": 14,
    "start_time": "2022-06-16T10:57:14.446Z"
   },
   {
    "duration": 21,
    "start_time": "2022-06-16T10:57:14.461Z"
   },
   {
    "duration": 12,
    "start_time": "2022-06-16T10:57:14.483Z"
   }
  ],
  "kernelspec": {
   "display_name": "Python 3 (ipykernel)",
   "language": "python",
   "name": "python3"
  },
  "language_info": {
   "codemirror_mode": {
    "name": "ipython",
    "version": 3
   },
   "file_extension": ".py",
   "mimetype": "text/x-python",
   "name": "python",
   "nbconvert_exporter": "python",
   "pygments_lexer": "ipython3",
   "version": "3.9.12"
  },
  "toc": {
   "base_numbering": 1,
   "nav_menu": {},
   "number_sections": true,
   "sideBar": true,
   "skip_h1_title": true,
   "title_cell": "Table of Contents",
   "title_sidebar": "Contents",
   "toc_cell": false,
   "toc_position": {},
   "toc_section_display": true,
   "toc_window_display": true
  }
 },
 "nbformat": 4,
 "nbformat_minor": 5
}
